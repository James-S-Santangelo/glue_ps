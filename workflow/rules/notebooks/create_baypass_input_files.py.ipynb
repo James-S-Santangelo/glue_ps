{
 "cells": [
  {
   "cell_type": "code",
   "execution_count": null,
   "id": "5ac03c52-ca6d-4447-a260-2d06f54d69e4",
   "metadata": {},
   "outputs": [],
   "source": [
    "import gzip"
   ]
  },
  {
   "cell_type": "code",
   "execution_count": null,
   "id": "583e1704-f058-4f08-b97a-7bb92aedc087",
   "metadata": {},
   "outputs": [],
   "source": [
    "chrom_site_dict = {chrom: {} for chrom in snakemake.params['chrom']}\n",
    "\n",
    "for chrom in snakemake.params[\"chrom\"]:\n",
    "    sites_path = f\"/research/projects/trifolium/glue/glue_ps/results/program_resources/angsd_sites/{chrom}/{chrom}_af_allSamples.sites\"\n",
    "    with open(sites_path, \"r\") as fin:\n",
    "        lines = fin.readlines()\n",
    "        for i, l in enumerate(lines):\n",
    "            pos = l.strip().split(\"\\t\")[1]\n",
    "            chrom_site_dict[chrom][pos] = i + 1  # Since this file has no header"
   ]
  },
  {
   "cell_type": "code",
   "execution_count": null,
   "id": "301e704e-51e4-4b50-b8e7-ccec18674c1e",
   "metadata": {},
   "outputs": [],
   "source": [
    "urban_pos_index_dict = {chrom: {} for chrom in snakemake.params['chrom']}\n",
    "rural_pos_index_dict = {chrom: {} for chrom in snakemake.params['chrom']}\n",
    "\n",
    "city = snakemake.wildcards[\"city\"]\n",
    "\n",
    "for chrom in snakemake.params[\"chrom\"]:\n",
    "    urb_pos_path = f\"/research/projects/trifolium/glue/glue_ps/results/angsd/maf/byCity/{city}/{chrom}/{city}_urban_{chrom}_snps.pos.gz\"\n",
    "    rur_pos_path = f\"/research/projects/trifolium/glue/glue_ps/results/angsd/maf/byCity/{city}/{chrom}/{city}_rural_{chrom}_snps.pos.gz\"\n",
    "\n",
    "    with gzip.open(urb_pos_path,'rb') as urb_pos:\n",
    "        lines = urb_pos.readlines() \n",
    "        for i, l in enumerate(lines):\n",
    "            if i != 0:\n",
    "                sl = l.strip().split(b\"\\t\")\n",
    "                pos = sl[1].decode('utf-8')\n",
    "                urban_pos_index_dict[chrom][pos] = i\n",
    "\n",
    "    with gzip.open(rur_pos_path,'rb') as rur_pos:\n",
    "        lines = rur_pos.readlines() \n",
    "        for i, l in enumerate(lines):\n",
    "            if i != 0:\n",
    "                sl = l.strip().split(b\"\\t\")\n",
    "                pos = sl[1].decode('utf-8')\n",
    "                rural_pos_index_dict[chrom][pos] = i        "
   ]
  },
  {
   "cell_type": "code",
   "execution_count": null,
   "id": "009c3486-bac3-4289-b415-35dc191b329a",
   "metadata": {},
   "outputs": [],
   "source": [
    "global_to_urban_mapping = {chrom: {} for chrom in snakemake.params['chrom']}\n",
    "global_to_rural_mapping = {chrom: {} for chrom in snakemake.params['chrom']}\n",
    "\n",
    "for chrom in snakemake.params[\"chrom\"]:\n",
    "    for gp, gi in chrom_site_dict[chrom].items():\n",
    "        try:\n",
    "            urban_idx = urban_pos_index_dict[chrom][gp]\n",
    "            global_to_urban_mapping[chrom][gp] = urban_idx\n",
    "        except KeyError:\n",
    "            print(f\"{chrom}: {gp} missing from urban populations\")\n",
    "        try:\n",
    "            rural_idx = rural_pos_index_dict[chrom][gp]\n",
    "            global_to_rural_mapping[chrom][gp] = rural_idx\n",
    "        except KeyError:\n",
    "            print(f\"{chrom}: {gp} missing from rural populations\")"
   ]
  },
  {
   "cell_type": "code",
   "execution_count": null,
   "id": "a5a0c5b3-a9e5-4509-afdb-e5eec1a25226",
   "metadata": {
    "scrolled": true
   },
   "outputs": [],
   "source": [
    "global_to_urban_mapping"
   ]
  },
  {
   "cell_type": "code",
   "execution_count": null,
   "id": "2aa53f16-057b-4adf-bb1a-b3e4f09be5a0",
   "metadata": {},
   "outputs": [],
   "source": [
    "# allele_count_dict = {city: {hab: [] for hab in snakemake.params[\"habitats\"]} for city in snakemake.params[\"cities\"]}\n",
    "# allele_count_dict\n",
    "nucl_index_dict = {b'A': 0, b'C': 1, b'G': 2, b'T': 3}\n",
    "\n",
    "city = snakemake.wildcards[\"city\"]\n",
    "\n",
    "with open(snakemake.output[\"perCity_geno\"], \"w\") as fout:\n",
    "    for chrom in snakemake.params[\"chrom\"]:\n",
    "        print(chrom)\n",
    "        glob_maf_path = f\"/research/projects/trifolium/glue/glue_ps/results/angsd/maf/allSamples/{chrom}/{chrom}_allSamples_snps.mafs.gz\"\n",
    "        urb_path = f\"/research/projects/trifolium/glue/glue_ps/results/angsd/maf/byCity/{city}/{chrom}/{city}_urban_{chrom}_snps.counts.gz\"\n",
    "        rur_path = f\"/research/projects/trifolium/glue/glue_ps/results/angsd/maf/byCity/{city}/{chrom}/{city}_rural_{chrom}_snps.counts.gz\"\n",
    "        \n",
    "        glob_mafs = gzip.open(glob_maf_path,'rb').readlines()\n",
    "        urban_counts = gzip.open(urb_path,'rb').readlines()\n",
    "        rural_counts = gzip.open(rur_path,'rb').readlines()\n",
    "\n",
    "        for gp, gi in chrom_site_dict[chrom].items():\n",
    "            urban_idx = global_to_urban_mapping[chrom].get(gp, None)\n",
    "            rural_idx = global_to_rural_mapping[chrom].get(gp, None)\n",
    "            if urban_idx and rural_idx:\n",
    "                glob_mafs_sl = glob_mafs[gi].strip().split(b\"\\t\")\n",
    "                REF = glob_mafs_sl[2]\n",
    "                ALT = glob_mafs_sl[3]\n",
    "                \n",
    "                # print(urban_counts[urban_idx].strip().split(b\"\\t\"), rural_counts[rural_idx].strip().split(b\"\\t\"))\n",
    "                # print(REF, ALT)\n",
    "                urban_ref = urban_counts[urban_idx].strip().split(b\"\\t\")[nucl_index_dict[REF]].decode('utf-8')\n",
    "                urban_alt = urban_counts[urban_idx].strip().split(b\"\\t\")[nucl_index_dict[ALT]].decode('utf-8')\n",
    "                rural_ref = rural_counts[rural_idx].strip().split(b\"\\t\")[nucl_index_dict[REF]].decode('utf-8')\n",
    "                rural_alt = rural_counts[rural_idx].strip().split(b\"\\t\")[nucl_index_dict[ALT]].decode('utf-8')\n",
    "                # print(urban_ref, urban_alt, rural_ref, rural_alt)\n",
    "                # print(\"========================\")\n",
    "                fout.write(f\"{urban_ref} {urban_alt} {rural_ref} {rural_alt}\\n\")\n",
    "            else:\n",
    "                pass\n"
   ]
  },
  {
   "cell_type": "code",
   "execution_count": null,
   "id": "a36bc651-ecf3-473e-8ec8-b3ebc44d3224",
   "metadata": {},
   "outputs": [],
   "source": [
    "with open(snakemake.output[\"perCity_cont\"], \"w\") as fout:\n",
    "    fout.write(\"1 -1\")"
   ]
  },
  {
   "cell_type": "code",
   "execution_count": null,
   "id": "783a362c-98c8-43c6-97f4-a4f1c320907b",
   "metadata": {},
   "outputs": [],
   "source": []
  }
 ],
 "metadata": {
  "kernelspec": {
   "display_name": "Python 3 (ipykernel)",
   "language": "python",
   "name": "python3"
  },
  "language_info": {
   "codemirror_mode": {
    "name": "ipython",
    "version": 3
   },
   "file_extension": ".py",
   "mimetype": "text/x-python",
   "name": "python",
   "nbconvert_exporter": "python",
   "pygments_lexer": "ipython3",
   "version": "3.12.4"
  }
 },
 "nbformat": 4,
 "nbformat_minor": 5
}
