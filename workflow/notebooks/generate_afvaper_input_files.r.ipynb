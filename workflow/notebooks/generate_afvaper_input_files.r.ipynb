{
 "cells": [
  {
   "cell_type": "code",
   "execution_count": null,
   "id": "6040a14c",
   "metadata": {},
   "outputs": [],
   "source": [
    "library(tidyverse)"
   ]
  },
  {
   "cell_type": "code",
   "execution_count": null,
   "id": "c803eda5-3f37-4441-b616-8a50ed82bf75",
   "metadata": {},
   "outputs": [],
   "source": [
    "extract_mafs <- function(path){\n",
    "    city <- str_extract(basename(path), \".*(?=_(urban|rural))\")\n",
    "    habitat <- str_extract(basename(path), \"(urban|rural)\")\n",
    "    af_colname <- paste0(city, \"_\", habitat)\n",
    "    \n",
    "    df <- read_delim(path, delim=\"\\t\", show_col_types = FALSE) %>% \n",
    "        dplyr::select(chromo, position, knownEM) %>% \n",
    "        rename(\"chr\" = \"chromo\", \"pos\" = \"position\",\n",
    "               !!af_colname := \"knownEM\")\n",
    "    return(df)\n",
    "}\n",
    "\n",
    "all_mafs <- snakemake@input[[\"afs\"]] %>% \n",
    "    purrr::map(., extract_mafs)"
   ]
  },
  {
   "cell_type": "code",
   "execution_count": null,
   "id": "73ad6b84-c2ec-41ba-9310-9dc91a903438",
   "metadata": {},
   "outputs": [],
   "source": [
    "afvaper_af_mat <- purrr::reduce(all_mafs, left_join, by = c(\"chr\", \"pos\"))"
   ]
  },
  {
   "cell_type": "code",
   "execution_count": null,
   "id": "d9d4f3f1-8bdf-474c-a14d-ebc8aeb1b89c",
   "metadata": {},
   "outputs": [],
   "source": [
    "write_delim(afvaper_af_mat, snakemake@output[[1]], delim=\"\\t\")"
   ]
  }
 ],
 "metadata": {
  "kernelspec": {
   "display_name": "R",
   "language": "R",
   "name": "ir"
  },
  "language_info": {
   "codemirror_mode": "r",
   "file_extension": ".r",
   "mimetype": "text/x-r-source",
   "name": "R",
   "pygments_lexer": "r",
   "version": "4.4.2"
  }
 },
 "nbformat": 4,
 "nbformat_minor": 5
}
