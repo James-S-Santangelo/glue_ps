{
 "cells": [
  {
   "cell_type": "code",
   "execution_count": null,
   "id": "5a5fe37c",
   "metadata": {},
   "outputs": [],
   "source": [
    "allSamples_geno = open(snakemake.input[\"as_geno\"], \"r\").readlines()"
   ]
  },
  {
   "cell_type": "code",
   "execution_count": null,
   "id": "7b95dcc6-7e3b-4fbc-9495-65371e4fc9a4",
   "metadata": {},
   "outputs": [],
   "source": [
    "split_index_dict = {n: [] for n in snakemake.params[\"splits\"]}\n",
    "num_splits = len(snakemake.params[\"splits\"])\n",
    "idx_array = [x for x in range(len(allSamples_geno))]\n",
    "\n",
    "for n in range(num_splits):\n",
    "    idx = [x for x in range(n, len(idx_array), num_splits)]\n",
    "    split_index_dict[n] = [idx_array[i] for i in idx]"
   ]
  },
  {
   "cell_type": "code",
   "execution_count": null,
   "id": "f53ff2cb-6089-4c8a-9d08-d384da20c0b0",
   "metadata": {},
   "outputs": [],
   "source": [
    "out_prefix = snakemake.params[\"out_prefix\"]\n",
    "splits_out = f\"{out_prefix}/allSamples/splits\"\n",
    "if not os.path.exists(splits_out):\n",
    "    os.makedirs(splits_out)\n",
    "for split, geno in split_index_dict.items():\n",
    "    as_geno_out = f\"{splits_out}/allSamples_{split}.geno\"\n",
    "    with open(as_geno_out, \"w\") as fout:\n",
    "        for g in geno:\n",
    "            fout.write(allSamples_geno[g])"
   ]
  },
  {
   "cell_type": "code",
   "execution_count": null,
   "id": "7c4e73cc-bd4a-49e2-af95-53c9dba5ed59",
   "metadata": {},
   "outputs": [],
   "source": [
    "order_out = f\"{out_prefix}/allSamples/site_order\"\n",
    "if not os.path.exists(order_out):\n",
    "    os.makedirs(order_out)\n",
    "site_order = open(snakemake.input[\"site_order\"], \"r\").readlines()\n",
    "for split, geno in split_index_dict.items():\n",
    "    site_order_out = f\"{order_out}/site_order_{split}.txt\"\n",
    "    with open(site_order_out, \"w\") as fout:\n",
    "        for g in geno:\n",
    "            fout.write(site_order[g])"
   ]
  },
  {
   "cell_type": "code",
   "execution_count": null,
   "id": "b0e94e4b-cdd3-46bf-b041-72062a914cf1",
   "metadata": {},
   "outputs": [],
   "source": [
    "in_prefix = snakemake.params[\"in_prefix\"]\n",
    "byCity_out = f\"{out_prefix}/byCity\"\n",
    "if not os.path.exists(byCity_out):\n",
    "    os.makedirs(byCity_out)\n",
    "for city in snakemake.params[\"cities\"]:\n",
    "    in_path = f\"{in_prefix}/{city}/{city}.geno\"\n",
    "    city_geno = open(in_path, \"r\").readlines()\n",
    "    for split, geno in split_index_dict.items():\n",
    "        city_path_out = f\"{byCity_out}/{city}\"\n",
    "        if not os.path.exists(city_path_out):\n",
    "            os.makedirs(city_path_out)\n",
    "        city_geno_out = f\"{city_path_out}/{city}_{split}.geno\"\n",
    "        with open(city_geno_out, \"w\") as fout:\n",
    "            for g in geno:\n",
    "                fout.write(city_geno[g])"
   ]
  },
  {
   "cell_type": "code",
   "execution_count": null,
   "id": "bf8815df-7409-4f4c-b123-bc9abc5bc1ee",
   "metadata": {},
   "outputs": [],
   "source": []
  }
 ],
 "metadata": {
  "kernelspec": {
   "display_name": "Python 3 (ipykernel)",
   "language": "python",
   "name": "python3"
  },
  "language_info": {
   "codemirror_mode": {
    "name": "ipython",
    "version": 3
   },
   "file_extension": ".py",
   "mimetype": "text/x-python",
   "name": "python",
   "nbconvert_exporter": "python",
   "pygments_lexer": "ipython3",
   "version": "3.12.4"
  }
 },
 "nbformat": 4,
 "nbformat_minor": 5
}
