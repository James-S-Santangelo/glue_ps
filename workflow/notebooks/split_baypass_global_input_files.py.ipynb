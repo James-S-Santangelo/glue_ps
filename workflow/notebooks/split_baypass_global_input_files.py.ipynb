{
 "cells": [
  {
   "cell_type": "markdown",
   "id": "f0fe5349-e041-43e6-90b6-09c57b8d6183",
   "metadata": {},
   "source": [
    "## Split genotype files for BayPass\n",
    "\n",
    "- Split genome-wide read count data into multiple splits to be run independently through BayPass"
   ]
  },
  {
   "cell_type": "code",
   "execution_count": null,
   "id": "5a5fe37c",
   "metadata": {},
   "outputs": [],
   "source": [
    "# Load genotype fille with all sites\n",
    "allSamples_geno = open(snakemake.input[\"as_geno\"], \"r\").readlines()"
   ]
  },
  {
   "cell_type": "code",
   "execution_count": null,
   "id": "7b95dcc6-7e3b-4fbc-9495-65371e4fc9a4",
   "metadata": {},
   "outputs": [],
   "source": [
    "# Generate dictionary with split as keys (i.e., from 1 to num_splits) and \n",
    "# the marker indices for the split as values (list)\n",
    "split_index_dict = {n: [] for n in snakemake.params[\"splits\"]}\n",
    "num_splits = len(snakemake.params[\"splits\"])\n",
    "idx_array = [x for x in range(len(allSamples_geno))]\n",
    "\n",
    "for n in range(num_splits):\n",
    "    idx = [x for x in range(n, len(idx_array), num_splits)]\n",
    "    split_index_dict[n] = [idx_array[i] for i in idx]"
   ]
  },
  {
   "cell_type": "code",
   "execution_count": null,
   "id": "f53ff2cb-6089-4c8a-9d08-d384da20c0b0",
   "metadata": {},
   "outputs": [],
   "source": [
    "# Write file with read count data for markers in each split\n",
    "out_prefix = snakemake.params[\"out_prefix\"]\n",
    "splits_out = f\"{out_prefix}/allSamples/splits\"\n",
    "if not os.path.exists(splits_out):\n",
    "    os.makedirs(splits_out)\n",
    "for split, geno in split_index_dict.items():\n",
    "    as_geno_out = f\"{splits_out}/allSamples_{split}.geno\"\n",
    "    with open(as_geno_out, \"w\") as fout:\n",
    "        for g in geno:\n",
    "            fout.write(allSamples_geno[g])"
   ]
  },
  {
   "cell_type": "code",
   "execution_count": null,
   "id": "7c4e73cc-bd4a-49e2-af95-53c9dba5ed59",
   "metadata": {},
   "outputs": [],
   "source": [
    "# Write file with the order of markers in the above genotype files\n",
    "order_out = f\"{out_prefix}/allSamples/site_order\"\n",
    "if not os.path.exists(order_out):\n",
    "    os.makedirs(order_out)\n",
    "site_order = open(snakemake.input[\"site_order\"], \"r\").readlines()\n",
    "for split, geno in split_index_dict.items():\n",
    "    site_order_out = f\"{order_out}/site_order_{split}.txt\"\n",
    "    with open(site_order_out, \"w\") as fout:\n",
    "        for g in geno:\n",
    "            fout.write(site_order[g])"
   ]
  },
  {
   "cell_type": "code",
   "execution_count": null,
   "id": "b0e94e4b-cdd3-46bf-b041-72062a914cf1",
   "metadata": {},
   "outputs": [],
   "source": [
    "# Write marker files for each city individually for city-by-city BayPass runs\n",
    "in_prefix = snakemake.params[\"in_prefix\"]\n",
    "byCity_out = f\"{out_prefix}/byCity\"\n",
    "if not os.path.exists(byCity_out):\n",
    "    os.makedirs(byCity_out)\n",
    "for city in snakemake.params[\"cities\"]:\n",
    "    in_path = f\"{in_prefix}/{city}/{city}.geno\"\n",
    "    city_geno = open(in_path, \"r\").readlines()\n",
    "    for split, geno in split_index_dict.items():\n",
    "        city_path_out = f\"{byCity_out}/{city}\"\n",
    "        if not os.path.exists(city_path_out):\n",
    "            os.makedirs(city_path_out)\n",
    "        city_geno_out = f\"{city_path_out}/{city}_{split}.geno\"\n",
    "        with open(city_geno_out, \"w\") as fout:\n",
    "            for g in geno:\n",
    "                fout.write(city_geno[g])"
   ]
  },
  {
   "cell_type": "code",
   "execution_count": null,
   "id": "c5e1d1df-4f39-4f6a-ab23-8c8c59bc108a",
   "metadata": {},
   "outputs": [],
   "source": [
    "random_100_indices = {}\n",
    "for sites_file in snakemake.input[\"random100\"]:\n",
    "    with open(sites_file, \"r\") as sites:\n",
    "        all_sites = sites.readlines()\n",
    "        print(all_sites[0])\n",
    "        break"
   ]
  },
  {
   "cell_type": "code",
   "execution_count": null,
   "id": "28784f97-90a2-4892-8085-c4b94b5f9ceb",
   "metadata": {},
   "outputs": [],
   "source": [
    "len(site_order)"
   ]
  },
  {
   "cell_type": "code",
   "execution_count": null,
   "id": "e1c5bc26-270c-4b9f-9aca-23ea2804875f",
   "metadata": {},
   "outputs": [],
   "source": []
  }
 ],
 "metadata": {
  "kernelspec": {
   "display_name": "Python 3 (ipykernel)",
   "language": "python",
   "name": "python3"
  },
  "language_info": {
   "codemirror_mode": {
    "name": "ipython",
    "version": 3
   },
   "file_extension": ".py",
   "mimetype": "text/x-python",
   "name": "python",
   "nbconvert_exporter": "python",
   "pygments_lexer": "ipython3",
   "version": "3.12.4"
  }
 },
 "nbformat": 4,
 "nbformat_minor": 5
}
