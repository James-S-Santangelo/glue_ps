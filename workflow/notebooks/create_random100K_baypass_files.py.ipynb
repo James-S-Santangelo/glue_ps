{
 "cells": [
  {
   "cell_type": "code",
   "execution_count": null,
   "id": "9bb8a4cf-be9e-49c8-84a7-ef7908552695",
   "metadata": {},
   "outputs": [],
   "source": [
    "import tqdm"
   ]
  },
  {
   "cell_type": "markdown",
   "id": "c270cb9f-90ed-4ce5-934e-6b6e2089730c",
   "metadata": {},
   "source": [
    "## 100K random LD-pruned sites\n",
    "\n",
    "- Get marker files for 100K random LD-pruned sites for neutral BayPass run"
   ]
  },
  {
   "cell_type": "code",
   "execution_count": null,
   "id": "139cf01a-e976-4c3a-8cae-bbb0ca1cbfb8",
   "metadata": {},
   "outputs": [],
   "source": [
    "# Load genotype, contrast, and poolsize files with data from all samples\n",
    "allSamples_geno = open(snakemake.input[\"as_geno\"], \"r\").readlines()\n",
    "\n",
    "# Load file with order of sites\n",
    "site_order = open(snakemake.input[\"site_order\"], \"r\").readlines()"
   ]
  },
  {
   "cell_type": "code",
   "execution_count": null,
   "id": "7078ba1d-ac53-4bc1-8da8-77973e8852ec",
   "metadata": {},
   "outputs": [],
   "source": [
    "# Convert site order file to list with element in same format as random sites files\n",
    "site_order_list = [line.strip().replace(\"\\t\", \"_\") for line in site_order]"
   ]
  },
  {
   "cell_type": "code",
   "execution_count": null,
   "id": "c9cc399b-592d-4131-9eea-4b00729e5d24",
   "metadata": {},
   "outputs": [],
   "source": [
    "# Get the marker indices of each random site\n",
    "# A few will be missing since BayPass requires no missing day and the SNPs were selected without this in mind\n",
    "# we'll store these separately\n",
    "random_100_indices = []\n",
    "missing = []\n",
    "for sites_file in tqdm.tqdm(snakemake.input[\"random\"]):\n",
    "    with open(sites_file, \"r\") as sites:\n",
    "        all_sites = sites.readlines()\n",
    "        for site in all_sites:\n",
    "            try:\n",
    "                idx = site_order_list.index(site.strip())\n",
    "                random_100_indices.append(idx)\n",
    "            except ValueError:\n",
    "                missing.append(site.strip())"
   ]
  },
  {
   "cell_type": "code",
   "execution_count": null,
   "id": "fcc63b43-ce3c-45c9-a269-21aece19af64",
   "metadata": {},
   "outputs": [],
   "source": [
    "with open(snakemake.output[\"geno\"], \"w\") as fout:\n",
    "    for idx in random_100_indices:\n",
    "        fout.write(allSamples_geno[idx])"
   ]
  }
 ],
 "metadata": {
  "kernelspec": {
   "display_name": "Python 3 (ipykernel)",
   "language": "python",
   "name": "python3"
  },
  "language_info": {
   "codemirror_mode": {
    "name": "ipython",
    "version": 3
   },
   "file_extension": ".py",
   "mimetype": "text/x-python",
   "name": "python",
   "nbconvert_exporter": "python",
   "pygments_lexer": "ipython3",
   "version": "3.12.4"
  }
 },
 "nbformat": 4,
 "nbformat_minor": 5
}
