{
 "cells": [
  {
   "cell_type": "code",
   "execution_count": null,
   "id": "8cdfbdc1-6eef-401c-ab29-ba292ecfddf3",
   "metadata": {},
   "outputs": [],
   "source": [
    "library(tidyverse)\n",
    "library(factoextra)\n",
    "source(\"scripts/r/baypass_utils.R\")\n",
    "source(\"scripts/r/functions_objects.R\")"
   ]
  },
  {
   "cell_type": "code",
   "execution_count": null,
   "id": "318a5b28",
   "metadata": {},
   "outputs": [],
   "source": [
    "sample_sheet <- read_delim(snakemake@config[[\"samples\"]], delim = \"\\t\", show_col_types = FALSE) %>%\n",
    "    dplyr::select(sample, continent, city, site, range)\n",
    "\n",
    "sample_order <- read_table(snakemake@input[[\"bams\"]], col_names = FALSE, show_col_types = FALSE) %>%\n",
    "    mutate(sample = str_extract(X1, pattern = \"(?<=(final|toronto_bams)\\\\/).*(?=_merged)\")) %>%\n",
    "    dplyr::select(sample) %>%\n",
    "    left_join(sample_sheet, by = \"sample\")\n",
    "\n",
    "head(sample_order)"
   ]
  },
  {
   "cell_type": "code",
   "execution_count": null,
   "id": "117848e1-101e-42fe-856d-419581893539",
   "metadata": {},
   "outputs": [],
   "source": [
    "covMat <- read_delim(snakemake@input[[\"mat\"]], col_names = FALSE, delim = ' ', show_col_types = FALSE)\n",
    "head(covMat)"
   ]
  },
  {
   "cell_type": "code",
   "execution_count": null,
   "id": "fbb2f59a-40e8-4b00-9591-80d71524ae71",
   "metadata": {},
   "outputs": [],
   "source": [
    "# Perform PCA on covariance matrix\n",
    "pca <- prcomp(covMat)"
   ]
  },
  {
   "cell_type": "code",
   "execution_count": null,
   "id": "2e24b153-8564-4f91-bbf3-d323d84ffc0a",
   "metadata": {},
   "outputs": [],
   "source": [
    "# Extract eigenvalues/variances\n",
    "head(get_eig(pca))"
   ]
  },
  {
   "cell_type": "code",
   "execution_count": null,
   "id": "69be4d87-a754-4e49-864a-138d131299d2",
   "metadata": {},
   "outputs": [],
   "source": [
    "scree <- fviz_screeplot(pca, addlabels = TRUE, ylim = c(0, 25)) + \n",
    "    ylab(\"% Variance explained\") + xlab(\"PC axis\") +\n",
    "    my_theme\n",
    "\n",
    "\n",
    "ggsave(filename = snakemake@output[[\"scree\"]], plot = scree, device = 'pdf', \n",
    "       width = 8, height = 8, units = 'in', dpi = 600)"
   ]
  },
  {
   "cell_type": "code",
   "execution_count": null,
   "id": "613da6fa-2205-4513-93fb-de636d82d215",
   "metadata": {},
   "outputs": [],
   "source": [
    "pca_df <- get_pca_ind(pca)$coord %>%\n",
    "    as.data.frame() %>%\n",
    "    dplyr::select(\"Dim.1\":\"Dim.6\") %>%\n",
    "    bind_cols(sample_order)\n",
    "head(pca_df)"
   ]
  },
  {
   "cell_type": "code",
   "execution_count": null,
   "id": "ef8d5b45-2ba9-4d8d-ab2e-1c83f20ad420",
   "metadata": {},
   "outputs": [],
   "source": [
    "pc1_var <- round(get_eigenvalue(pca)[\"Dim.1\", \"variance.percent\"], 2)\n",
    "pc2_var <- round(get_eigenvalue(pca)[\"Dim.2\", \"variance.percent\"], 2)\n",
    "\n",
    "pca_plot <- pca_df %>% \n",
    "    ggplot(aes(x = Dim.1, y = Dim.2)) +\n",
    "        geom_point(aes(color = continent), size = 3, alpha = 0.5) +\n",
    "        scale_color_manual(values = c(\"#f2cd00\", \"#ef6a00\", \"#cd001a\", \"#538d22\", \"#1961ae\", \"#61007d\")) +\n",
    "        coord_cartesian(xlim = c(-1.6, 1.6), ylim = c(-1.6, 0.7)) +\n",
    "        scale_x_continuous(breaks = seq(-1.5, 1.5, 0.5)) +\n",
    "        scale_y_continuous(breaks = seq(-1.5, 0.5, 0.5)) +\n",
    "        xlab(paste0(\"PC1 (\", pc1_var, \"%)\")) + ylab(paste0(\"PC2 (\", pc2_var, \"%)\")) +\n",
    "        my_theme\n",
    "pca_plot\n",
    "\n",
    "ggsave(filename = snakemake@output[[\"all_pca\"]], plot = pca_plot, device = 'pdf', \n",
    "       width = 8, height = 8, units = 'in', dpi = 600)"
   ]
  },
  {
   "cell_type": "code",
   "execution_count": null,
   "id": "ebde8a34-96a7-4b2f-95bc-5e4b869328ae",
   "metadata": {},
   "outputs": [],
   "source": [
    "plot_continental_pca <- function(df, cont){\n",
    "    off_cont <- df %>% filter(continent != cont)\n",
    "    on_cont <- df %>% filter(continent == cont)\n",
    "\n",
    "    plot <- off_cont %>%\n",
    "        ggplot(aes(x = Dim.1, y = Dim.2)) +\n",
    "            geom_point(color = \"black\", size = 3, alpha = 0.1) +\n",
    "            geom_point(data = on_cont, aes(color = city, shape = site), size = 3, alpha = 1) +\n",
    "            scale_color_manual(values = c(\"#f2cd00\", \"#ef6a00\", \"#cd001a\", \"#538d22\", \"#1961ae\", \"#61007d\")) +\n",
    "            coord_cartesian(xlim = c(-1.6, 1.6), ylim = c(-1.6, 0.7)) +\n",
    "            scale_x_continuous(breaks = seq(-1.5, 1.5, 0.5)) +\n",
    "            scale_y_continuous(breaks = seq(-1.5, 0.5, 0.5)) +\n",
    "            xlab(paste0(\"PC1 (\", pc1_var, \"%)\")) + ylab(paste0(\"PC2 (\", pc2_var, \"%)\")) +\n",
    "            my_theme\n",
    "\n",
    "    return(plot)\n",
    "}"
   ]
  },
  {
   "cell_type": "code",
   "execution_count": null,
   "id": "41460c49-f2bb-4f70-b225-c3bddc8147f2",
   "metadata": {},
   "outputs": [],
   "source": [
    "nam_pca <- plot_continental_pca(pca_df, cont = \"NAM\")\n",
    "oce_pca <- plot_continental_pca(pca_df, cont = \"OCE\")\n",
    "sam_pca <- plot_continental_pca(pca_df, cont = \"SAM\")\n",
    "afr_pca <- plot_continental_pca(pca_df, cont = \"AFR\")\n",
    "asi_pca <- plot_continental_pca(pca_df, cont = \"ASI\")\n",
    "eu_pca <- plot_continental_pca(pca_df, cont = \"EU\")\n",
    "\n",
    "\n",
    "ggsave(filename = snakemake@output[[\"nam_pca\"]], plot = nam_pca, device = 'pdf', \n",
    "       width = 8, height = 8, units = 'in', dpi = 600)\n",
    "ggsave(filename = snakemake@output[[\"oce_pca\"]], plot = oce_pca, device = 'pdf', \n",
    "       width = 8, height = 8, units = 'in', dpi = 600)\n",
    "ggsave(filename = snakemake@output[[\"sam_pca\"]], plot = sam_pca, device = 'pdf', \n",
    "       width = 8, height = 8, units = 'in', dpi = 600)\n",
    "ggsave(filename = snakemake@output[[\"afr_pca\"]], plot = afr_pca, device = 'pdf', \n",
    "       width = 8, height = 8, units = 'in', dpi = 600)\n",
    "ggsave(filename = snakemake@output[[\"asi_pca\"]], plot = asi_pca, device = 'pdf', \n",
    "       width = 8, height = 8, units = 'in', dpi = 600)\n",
    "ggsave(filename = snakemake@output[[\"eu_pca\"]], plot = eu_pca, device = 'pdf', \n",
    "       width = 8, height = 8, units = 'in', dpi = 600)"
   ]
  },
  {
   "cell_type": "code",
   "execution_count": null,
   "id": "12258107-5d59-48ee-bf74-1e1bff10aded",
   "metadata": {},
   "outputs": [],
   "source": [
    "pca_df %>%\n",
    "    dplyr::select(Dim.1:Dim.6) %>%\n",
    "    write_delim(., snakemake@output[[\"cov_file\"]], col_names = FALSE, delim = ' ')"
   ]
  }
 ],
 "metadata": {
  "kernelspec": {
   "display_name": "R",
   "language": "R",
   "name": "ir"
  },
  "language_info": {
   "codemirror_mode": "r",
   "file_extension": ".r",
   "mimetype": "text/x-r-source",
   "name": "R",
   "pygments_lexer": "r",
   "version": "4.2.3"
  }
 },
 "nbformat": 4,
 "nbformat_minor": 5
}
