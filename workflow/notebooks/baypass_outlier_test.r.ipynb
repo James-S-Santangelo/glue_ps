{
 "cells": [
  {
   "cell_type": "code",
   "execution_count": null,
   "id": "62c7457f",
   "metadata": {},
   "outputs": [],
   "source": [
    "library(tidyverse)\n",
    "source(\"scripts/r/functions_objects.R\")"
   ]
  },
  {
   "cell_type": "code",
   "execution_count": null,
   "id": "74f13c21-ae2d-438a-8160-8cb5c1084a38",
   "metadata": {},
   "outputs": [],
   "source": [
    "# Load files with chromsome and position order for each split\n",
    "site_order <- suppressMessages(read_delim(snakemake@input[[\"site_order\"]], \n",
    "                                          delim = \"\\t\",\n",
    "                                          col_names = c(\"chrom\", \"pos\")))"
   ]
  },
  {
   "cell_type": "code",
   "execution_count": null,
   "id": "f84a9b25-d31d-4dea-a4ab-1a31dd7cb84f",
   "metadata": {},
   "outputs": [],
   "source": [
    "load_xtx_output <- function(path){\n",
    "    base <- basename(path)\n",
    "    city <- str_extract(base, pattern = \".*(?=_split)\")\n",
    "    split <- str_extract(base, pattern = \"(?<=split).*(?=_summary)\")\n",
    "    \n",
    "    df <- suppressMessages(read.table(path, header = TRUE)) %>% \n",
    "        rename(\"XtX_log10_pval\" = \"log10.1.pval.\") %>% \n",
    "        mutate(XtX_pval = 10^(-1 * XtX_log10_pval)) %>% \n",
    "        dplyr::select(XtXst, XtX_log10_pval, XtX_pval) %>% \n",
    "        mutate(city = city, split = split)\n",
    "    return(df)\n",
    "}\n",
    "\n",
    "xtx_df <- snakemake@input[[\"pi_xtx\"]] %>% \n",
    "    purrr::map_dfr(., load_xtx_output)"
   ]
  },
  {
   "cell_type": "code",
   "execution_count": null,
   "id": "7d519e9b-5938-4fed-a164-6af18ecaaa8f",
   "metadata": {},
   "outputs": [],
   "source": [
    "load_cont_output <- function(path){\n",
    "    base <- basename(path)\n",
    "    city <- str_extract(base, pattern = \".*(?=_split)\")\n",
    "    split <- str_extract(base, pattern = \"(?<=split).*(?=_summary)\")\n",
    "    \n",
    "    df <- suppressMessages(read.table(path, header = TRUE)) %>% \n",
    "        rename(\"C2_log10_pval\" = \"log10.1.pval.\") %>% \n",
    "        mutate(C2_pval = 10^(-1 * C2_log10_pval)) %>% \n",
    "        dplyr::select(C2_std, C2_log10_pval, C2_pval) %>% \n",
    "        mutate(city = city, split = split)\n",
    "    return(df)\n",
    "}\n",
    "\n",
    "c2_df <- snakemake@input[[\"cont_out\"]] %>% \n",
    "    purrr::map_dfr(., load_cont_output)"
   ]
  },
  {
   "cell_type": "code",
   "execution_count": null,
   "id": "254c6813-2c27-4a29-8307-f981aaee0588",
   "metadata": {},
   "outputs": [],
   "source": [
    "xtx_df_withPos <- xtx_df %>% \n",
    "    group_split(city) %>% \n",
    "    purrr::map_dfr(., bind_cols, site_order) %>% \n",
    "    arrange(city, chrom, pos)"
   ]
  },
  {
   "cell_type": "code",
   "execution_count": null,
   "id": "63f40fa5-7a7b-4d9f-9259-812603d347e3",
   "metadata": {},
   "outputs": [],
   "source": [
    "c2_df_withPos <- c2_df %>% \n",
    "    group_split(city) %>% \n",
    "    purrr::map_dfr(., bind_cols, site_order) %>% \n",
    "    arrange(city, chrom, pos)"
   ]
  },
  {
   "cell_type": "code",
   "execution_count": null,
   "id": "28df236a-fda6-42c5-8f14-7d4b13bfdcc8",
   "metadata": {},
   "outputs": [],
   "source": [
    "head(c2_df_withPos)"
   ]
  },
  {
   "cell_type": "code",
   "execution_count": null,
   "id": "ae469850-1100-4e06-8ab3-11c178f8707d",
   "metadata": {
    "scrolled": true
   },
   "outputs": [],
   "source": [
    "test <- c2_df_withPos %>% filter(city == \"Toronto\")\n",
    "brks <- hist(test$C2_pval, plot=F, breaks=50)$breaks\n",
    "test %>% \n",
    "    ggplot(aes(x = C2_pval)) +\n",
    "    geom_histogram(aes(y = ..density..), bins = 50, color = \"black\", fill = \"grey\", breaks = brks) +\n",
    "    scale_x_continuous(breaks = seq(0, 1, 0.2)) +\n",
    "    geom_hline(yintercept = 1, color = \"red\", linetype = \"dashed\") +\n",
    "    ylab(\"Density\") + xlab(\"P-value\") +\n",
    "    my_theme"
   ]
  },
  {
   "cell_type": "code",
   "execution_count": null,
   "id": "a9d754d3-ffb7-477f-9fcc-22877ef64f0e",
   "metadata": {},
   "outputs": [],
   "source": [
    "qval_cut <- snakemake@params[[\"qval_cut\"]]\n",
    "test <- test %>% \n",
    "    mutate(C2_qval = p.adjust(C2_pval, method = \"bonferroni\"),\n",
    "           is_outlier = ifelse(C2_qval <= qval_cut, 1, 0)) %>% \n",
    "    dplyr::select(chrom, pos, C2_std, C2_pval, C2_qval, is_outlier) %>% \n",
    "    remap_chr_names()"
   ]
  },
  {
   "cell_type": "code",
   "execution_count": null,
   "id": "b3e4f7af-d620-4d12-98d6-c1b3ef5876cd",
   "metadata": {},
   "outputs": [],
   "source": [
    "test %>% \n",
    "    group_by(is_outlier) %>% \n",
    "    summarise(n = n())"
   ]
  },
  {
   "cell_type": "code",
   "execution_count": null,
   "id": "ddb2677f-7101-450a-b4a5-d8f082ef1c0c",
   "metadata": {},
   "outputs": [],
   "source": [
    "head(test)"
   ]
  },
  {
   "cell_type": "code",
   "execution_count": null,
   "id": "eb1a68c8-6274-4550-b021-9eb61f4df820",
   "metadata": {},
   "outputs": [],
   "source": [
    "options(repr.plot.width = 20, repr.plot.height = 6)\n",
    "\n",
    "# Setting up cummulative genome-wide x-axis\n",
    "data_cum <- test %>% \n",
    "    group_by(chrom) %>% \n",
    "    summarise(max_pos = max(pos)) %>% \n",
    "    mutate(pos_add = lag(cumsum(max_pos), default = 0)) %>% \n",
    "    dplyr::select(chrom, pos_add)\n",
    "\n",
    "df_mod <- test %>%\n",
    "    inner_join(data_cum, by = \"chrom\") %>% \n",
    "    mutate(pos_cum = pos + pos_add)  %>% \n",
    "    mutate(chrom_cat = case_when(chrom == '1' ~ 'One',\n",
    "                                 chrom == '2' ~ 'Two',\n",
    "                                 chrom == '3' ~ 'One',\n",
    "                                 chrom == '4' ~ 'Two',\n",
    "                                 chrom == '5' ~ 'One',\n",
    "                                 chrom == '6' ~ 'Two',\n",
    "                                 chrom == '7' ~ 'One',\n",
    "                                 chrom == '8' ~ 'Two',\n",
    "                                 chrom == '9' ~ 'One',\n",
    "                                 chrom == '10' ~ 'Two',\n",
    "                                 chrom == '11' ~ 'One',\n",
    "                                 chrom == '12' ~ 'Two',\n",
    "                                 chrom == '13' ~ 'One',\n",
    "                                 chrom == '14' ~ 'Two',\n",
    "                                 chrom == '15' ~ 'One',\n",
    "                                 chrom == '16' ~ 'Two'))\n",
    "\n",
    "axis_set <- df_mod %>% \n",
    "  group_by(chrom) %>% \n",
    "  summarize(center = mean(pos_cum))\n",
    "\n",
    "# Get outliers to plot as separate layer\n",
    "outliers <- df_mod %>% filter(is_outlier == 1)\n",
    "not_outlier <- df_mod %>% filter(is_outlier == 0) %>% sample_frac(0.01)"
   ]
  },
  {
   "cell_type": "code",
   "execution_count": null,
   "id": "b2775ec2-c55a-45b5-9a3c-bfa536c3440a",
   "metadata": {},
   "outputs": [],
   "source": [
    "manhat <- ggplot() +\n",
    "        geom_point(data = not_outlier, shape = 21, alpha = 0.4, size = 1, \n",
    "                   aes(x = pos_cum, y = -log10(C2_qval), fill = chrom_cat, color = chrom_cat), , show.legend = FALSE) +\n",
    "        geom_point(data = outliers, shape = 21, alpha = 1, size = 1, color = \"red\", fill = \"red\",\n",
    "                   aes(x = pos_cum, y = -log10(C2_qval))) +\n",
    "        geom_hline(yintercept = -log10(qval_cut), color = \"grey40\", linetype = \"dashed\") +\n",
    "        scale_x_continuous(label = axis_set$chrom, breaks = axis_set$center) +\n",
    "        # scale_y_continuous(expand = c(0,0), breaks = seq(0, 4, 1)) +\n",
    "        # coord_cartesian(ylim = c(0, 4)) +\n",
    "        scale_fill_manual(values = c(\"black\", \"grey40\")) + \n",
    "        scale_color_manual(values = c(\"black\", \"grey40\")) + \n",
    "        ylab(expression(-log[10] * \"(q-value)\")) + xlab('Chromosomes') +\n",
    "        theme_classic() +\n",
    "        my_theme +\n",
    "        theme(legend.position = \"none\")\n",
    "manhat\n",
    "\n",
    "# ggsave(filename = snakemake@output[[\"c2_manhat_pdf\"]], plot = c2_manhat, \n",
    "#        height = 8, width = 20, device = \"pdf\", dpi = 600, units = \"in\")\n",
    "# ggsave(filename = snakemake@output[[\"c2_manhat_png\"]], plot = c2_manhat, \n",
    "#        height = 8, width = 20, device = \"png\", dpi = 600, units = \"in\")"
   ]
  },
  {
   "cell_type": "code",
   "execution_count": null,
   "id": "ffa6bc6e-ab0a-489e-8e0d-1b5601e91a21",
   "metadata": {},
   "outputs": [],
   "source": []
  }
 ],
 "metadata": {
  "kernelspec": {
   "display_name": "R",
   "language": "R",
   "name": "ir"
  },
  "language_info": {
   "codemirror_mode": "r",
   "file_extension": ".r",
   "mimetype": "text/x-r-source",
   "name": "R",
   "pygments_lexer": "r",
   "version": "4.3.3"
  }
 },
 "nbformat": 4,
 "nbformat_minor": 5
}
