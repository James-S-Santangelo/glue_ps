{
 "cells": [
  {
   "cell_type": "code",
   "execution_count": null,
   "id": "62c7457f",
   "metadata": {},
   "outputs": [],
   "source": [
    "library(tidyverse)\n",
    "source(\"scripts/r/functions_objects.R\")"
   ]
  },
  {
   "cell_type": "code",
   "execution_count": null,
   "id": "5b1e4144-7525-4aa5-8af7-eb40b0f5adf7",
   "metadata": {},
   "outputs": [],
   "source": [
    "remap_chr_names <- function(df){\n",
    "    df_out <- df %>% \n",
    "    mutate(chrom = case_when(chrom == 'Chr01_Occ' ~ 1,\n",
    "           chrom == 'Chr01_Pall' ~ 2,\n",
    "           chrom == 'Chr02_Occ' ~ 3,\n",
    "           chrom == 'Chr02_Pall' ~ 4,\n",
    "           chrom == 'Chr03_Occ' ~ 5,\n",
    "           chrom == 'Chr03_Pall' ~ 6,\n",
    "           chrom == 'Chr04_Occ' ~ 7,\n",
    "           chrom == 'Chr04_Pall' ~ 8,\n",
    "           chrom == 'Chr05_Occ' ~ 9,\n",
    "           chrom == 'Chr05_Pall' ~ 10,\n",
    "           chrom == 'Chr06_Occ' ~ 11,\n",
    "           chrom == 'Chr06_Pall' ~ 12,\n",
    "           chrom == 'Chr07_Occ' ~ 13,\n",
    "           chrom == 'Chr07_Pall' ~ 14,\n",
    "           chrom == 'Chr08_Occ' ~ 15,\n",
    "           chrom == 'Chr08_Pall' ~ 16))\n",
    "    return(df_out)\n",
    "}"
   ]
  },
  {
   "cell_type": "code",
   "execution_count": null,
   "id": "a9d754d3-ffb7-477f-9fcc-22877ef64f0e",
   "metadata": {},
   "outputs": [],
   "source": [
    "# Load files with chromsome and position order for each split\n",
    "site_order <- suppressMessages(read_delim(snakemake@input[[\"site_order\"]], \n",
    "                                          delim = \"\\t\",\n",
    "                                          col_names = c(\"chrom\", \"pos\")))\n",
    "\n",
    "# Load BayPass contrasts stat output and combine with site_order files. \n",
    "# This works because files are in the same order by default.\n",
    "# Estimate q-values using FDR and outliers at qval cutoff of 0.1\n",
    "load_contrast_output <- function(path){\n",
    "    df <- suppressMessages(read_table(path))\n",
    "    return(df)\n",
    "}\n",
    "\n",
    "qval_cut <- snakemake@params[[\"qval_cut\"]]\n",
    "cont_df <- snakemake@input[[\"cont_out\"]] %>% \n",
    "    purrr::map_dfr(., load_contrast_output) %>% \n",
    "    bind_cols(., site_order) %>% \n",
    "    arrange(chrom, pos) %>% \n",
    "    rename(\"log10_1_pval\" = \"log10(1/pval)\") %>% \n",
    "    mutate(pval = 10^(-1 * log10_1_pval),\n",
    "           qval = p.adjust(pval, method = \"fdr\"),\n",
    "           is_outlier = ifelse(-log10(qval) >= -log10(qval_cut), 1, 0)) %>% \n",
    "    dplyr::select(chrom, pos, M_C2, SD_C2, C2_std, log10_1_pval, pval, qval, is_outlier) %>% \n",
    "    remap_chr_names()"
   ]
  },
  {
   "cell_type": "code",
   "execution_count": null,
   "id": "ca6134a9-4773-4637-8ade-52c58f5c079c",
   "metadata": {},
   "outputs": [],
   "source": [
    "range(-log10(cont_df$qval))"
   ]
  },
  {
   "cell_type": "code",
   "execution_count": null,
   "id": "cd68a4c3-c09b-47c1-bd9a-251f8a88ea34",
   "metadata": {},
   "outputs": [],
   "source": [
    "cont_df %>% \n",
    "    filter(is_outlier == 1) %>% \n",
    "    write_delim(snakemake@output[[\"c2_outliers\"]], delim = \"\\t\")"
   ]
  },
  {
   "cell_type": "code",
   "execution_count": null,
   "id": "29636fd4-a204-4874-a0ae-21f3ecc76993",
   "metadata": {},
   "outputs": [],
   "source": [
    "brks <- hist(cont_df$pval, plot=F, breaks=50)$breaks\n",
    "c2_pval_hist <- cont_df %>% \n",
    "    ggplot(aes(x = pval)) +\n",
    "    geom_histogram(aes(y = ..density..), bins = 50, color = \"black\", fill = \"grey\", breaks = brks) +\n",
    "    scale_x_continuous(breaks = seq(0, 1, 0.2)) +\n",
    "    geom_hline(yintercept = 1, color = \"red\", linetype = \"dashed\") +\n",
    "    ylab(\"Density\") + xlab(\"P-value\") +\n",
    "    my_theme\n",
    "c2_pval_hist\n",
    "\n",
    "ggsave(filename = snakemake@output[[\"c2_pval_hist\"]], plot = c2_pval_hist, device = 'pdf', \n",
    "       width = 8, height = 8, units = 'in', dpi = 600)"
   ]
  },
  {
   "cell_type": "code",
   "execution_count": null,
   "id": "eb1a68c8-6274-4550-b021-9eb61f4df820",
   "metadata": {},
   "outputs": [],
   "source": [
    "options(repr.plot.width = 20, repr.plot.height = 6)\n",
    "\n",
    "# Setting up cummulative genome-wide x-axis\n",
    "data_cum <- cont_df %>% \n",
    "    group_by(chrom) %>% \n",
    "    summarise(max_pos = max(pos)) %>% \n",
    "    mutate(pos_add = lag(cumsum(max_pos), default = 0)) %>% \n",
    "    dplyr::select(chrom, pos_add)\n",
    "\n",
    "df_mod <- cont_df %>%\n",
    "    inner_join(data_cum, by = \"chrom\") %>% \n",
    "    mutate(pos_cum = pos + pos_add)  %>% \n",
    "    mutate(chrom_cat = case_when(chrom == '1' ~ 'One',\n",
    "                                 chrom == '2' ~ 'Two',\n",
    "                                 chrom == '3' ~ 'One',\n",
    "                                 chrom == '4' ~ 'Two',\n",
    "                                 chrom == '5' ~ 'One',\n",
    "                                 chrom == '6' ~ 'Two',\n",
    "                                 chrom == '7' ~ 'One',\n",
    "                                 chrom == '8' ~ 'Two',\n",
    "                                 chrom == '9' ~ 'One',\n",
    "                                 chrom == '10' ~ 'Two',\n",
    "                                 chrom == '11' ~ 'One',\n",
    "                                 chrom == '12' ~ 'Two',\n",
    "                                 chrom == '13' ~ 'One',\n",
    "                                 chrom == '14' ~ 'Two',\n",
    "                                 chrom == '15' ~ 'One',\n",
    "                                 chrom == '16' ~ 'Two'))\n",
    "\n",
    "axis_set <- df_mod %>% \n",
    "  group_by(chrom) %>% \n",
    "  summarize(center = mean(pos_cum))\n",
    "\n",
    "# Get outliers to plot as separate layer\n",
    "c2_outliers <- df_mod %>% filter(is_outlier == 1)\n",
    "not_outlier <- df_mod %>% filter(is_outlier == 0)"
   ]
  },
  {
   "cell_type": "code",
   "execution_count": null,
   "id": "b2775ec2-c55a-45b5-9a3c-bfa536c3440a",
   "metadata": {},
   "outputs": [],
   "source": [
    "c2_manhat <- ggplot() +\n",
    "        geom_point(data = not_outlier, shape = 21, alpha = 0.4, size = 1, \n",
    "                   aes(x = pos_cum, y = -log10(qval), fill = chrom_cat, color = chrom_cat), , show.legend = FALSE) +\n",
    "        geom_point(data = c2_outliers, shape = 21, alpha = 1, size = 3, color = \"red\", fill = \"red\",\n",
    "                   aes(x = pos_cum, y = -log10(qval))) +\n",
    "        geom_hline(yintercept = -log10(qval_cut), color = \"grey40\", linetype = \"dashed\") +\n",
    "        scale_x_continuous(label = axis_set$chrom, breaks = axis_set$center) +\n",
    "        scale_y_continuous(expand = c(0,0), breaks = seq(0, 4, 1)) +\n",
    "        coord_cartesian(ylim = c(0, 4)) +\n",
    "        scale_fill_manual(values = c(\"black\", \"grey40\")) + \n",
    "        scale_color_manual(values = c(\"black\", \"grey40\")) + \n",
    "        ylab(expression(-log[10] * \"(q-value)\")) + xlab('Chromosomes') +\n",
    "        theme_classic() +\n",
    "        my_theme +\n",
    "        theme(legend.position = \"none\") +\n",
    "c2_manhat\n",
    "\n",
    "ggsave(filename = snakemake@output[[\"c2_manhat_pdf\"]], plot = c2_manhat, \n",
    "       height = 8, width = 20, device = \"pdf\", dpi = 600, units = \"in\")\n",
    "ggsave(filename = snakemake@output[[\"c2_manhat_png\"]], plot = c2_manhat, \n",
    "       height = 8, width = 20, device = \"png\", dpi = 600, units = \"in\")"
   ]
  }
 ],
 "metadata": {
  "kernelspec": {
   "display_name": "R",
   "language": "R",
   "name": "ir"
  },
  "language_info": {
   "codemirror_mode": "r",
   "file_extension": ".r",
   "mimetype": "text/x-r-source",
   "name": "R",
   "pygments_lexer": "r",
   "version": "4.3.3"
  }
 },
 "nbformat": 4,
 "nbformat_minor": 5
}
