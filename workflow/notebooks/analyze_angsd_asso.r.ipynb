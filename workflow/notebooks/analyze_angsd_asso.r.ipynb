{
 "cells": [
  {
   "cell_type": "code",
   "execution_count": null,
   "id": "85ff11e6",
   "metadata": {},
   "outputs": [],
   "source": [
    "library(tidyverse)\n",
    "source(\"scripts/r/functions_objects.R\")"
   ]
  },
  {
   "cell_type": "code",
   "execution_count": null,
   "id": "6df57427",
   "metadata": {},
   "outputs": [],
   "source": [
    "asso_freq <- read_delim(snakemake@input[[1]], delim = \"\\t\")\n",
    "asso_freq"
   ]
  },
  {
   "cell_type": "code",
   "execution_count": null,
   "id": "7be75917",
   "metadata": {},
   "outputs": [],
   "source": [
    "asso_freq %>%\n",
    "    ggplot(aes(x = P)) +\n",
    "        geom_histogram(bins = 100, color = \"black\", fill = \"grey\") +\n",
    "        xlab(\"P-value\") +\n",
    "        my_theme"
   ]
  },
  {
   "cell_type": "code",
   "execution_count": null,
   "id": "398fc460",
   "metadata": {},
   "outputs": [],
   "source": [
    "asso_freq %>%\n",
    "    filter(Frequency > 0.51)"
   ]
  },
  {
   "cell_type": "code",
   "execution_count": null,
   "id": "1921d1e2",
   "metadata": {},
   "outputs": [],
   "source": [
    "asso_freq %>%\n",
    "    ggplot(aes(sample = LRT)) +\n",
    "        stat_qq(distribution=stats::qchisq, dparams=list(df = 1)) +\n",
    "        stat_qq_line(distribution=stats::qchisq, dparams=list(df = 1)) +\n",
    "        ylab(\"LRT\") + xlab(bquote(chi[1]^2)) +\n",
    "        my_theme"
   ]
  },
  {
   "cell_type": "code",
   "execution_count": null,
   "id": "24617bb4",
   "metadata": {},
   "outputs": [],
   "source": [
    "asso_freq %>%\n",
    "    mutate(qval = p.adjust(P, method = \"fdr\")) %>%\n",
    "    mutate(is_outlier = ifelse(qval <= 0.05, 1, 0)) %>%\n",
    "    group_by(is_outlier) %>%\n",
    "    summarize(n = n())"
   ]
  },
  {
   "cell_type": "code",
   "execution_count": null,
   "id": "7fa4870d",
   "metadata": {
    "scrolled": false
   },
   "outputs": [],
   "source": [
    "asso_lg <- read_delim(snakemake@input[[2]], delim = \"\\t\") %>%\n",
    "    mutate(passes_filter = ifelse(is.nan(beta), 0, 1))\n",
    "asso_lg"
   ]
  },
  {
   "cell_type": "code",
   "execution_count": null,
   "id": "a5e8a829",
   "metadata": {},
   "outputs": [],
   "source": [
    "asso_lg %>%\n",
    "    group_by(passes_filter) %>%\n",
    "    summarize(n = n())"
   ]
  },
  {
   "cell_type": "code",
   "execution_count": null,
   "id": "36a5b789",
   "metadata": {},
   "outputs": [],
   "source": [
    "asso_lg %>%\n",
    "    filter(passes_filter == 1) %>%\n",
    "    ggplot(aes(x = P)) +\n",
    "        geom_histogram(aes(y=..density..), bins = 100, color = \"black\", fill = \"grey\") +\n",
    "        xlab(\"P-value\") +\n",
    "        my_theme"
   ]
  },
  {
   "cell_type": "code",
   "execution_count": null,
   "id": "a26bf77e",
   "metadata": {},
   "outputs": [],
   "source": [
    "asso_lg %>%\n",
    "    filter(passes_filter == 1) %>%\n",
    "    ggplot(aes(sample = LRT)) +\n",
    "        stat_qq(distribution=stats::qchisq, dparams=list(df = 1)) +\n",
    "        stat_qq_line(distribution=stats::qchisq, dparams=list(df = 1)) +\n",
    "        ylab(\"LRT\") + xlab(bquote(chi[1]^2)) +\n",
    "        my_theme"
   ]
  },
  {
   "cell_type": "code",
   "execution_count": null,
   "id": "f8280b0c",
   "metadata": {},
   "outputs": [],
   "source": [
    "asso_lg %>%\n",
    "    filter(passes_filter == 1) %>%\n",
    "    mutate(qval = p.adjust(P, method = \"fdr\")) %>%\n",
    "    mutate(is_outlier = ifelse(qval <= 0.05, 1, 0)) %>%\n",
    "    group_by(is_outlier) %>%\n",
    "    summarize(n = n())"
   ]
  },
  {
   "cell_type": "code",
   "execution_count": null,
   "id": "de1bc260",
   "metadata": {},
   "outputs": [],
   "source": [
    "asso_lg %>%\n",
    "    filter(passes_filter == 1) %>%\n",
    "    mutate(qval = p.adjust(P, method = \"fdr\")) %>%\n",
    "    mutate(is_outlier = ifelse(qval <= 0.05, 1, 0)) %>%\n",
    "    filter(is_outlier == 1)"
   ]
  },
  {
   "cell_type": "code",
   "execution_count": null,
   "id": "9fe8e296",
   "metadata": {},
   "outputs": [],
   "source": [
    "asso_lg %>%\n",
    "    filter(passes_filter == 1) %>%\n",
    "    ggplot(aes(x = beta)) +\n",
    "        geom_histogram(bins = 50, color = \"black\", fill = \"white\") +\n",
    "        my_theme"
   ]
  },
  {
   "cell_type": "code",
   "execution_count": null,
   "id": "9b2aeb03",
   "metadata": {},
   "outputs": [],
   "source": [
    "asso_lg_with_gts <- asso_lg %>%\n",
    "    filter(passes_filter == 1) %>%\n",
    "    rename(\"GTs\" = \"high_WT/HE/HO\") %>%\n",
    "    separate(GTs, sep = \"/\", into = c(\"WT\", \"HE\", \"HO\")) %>%\n",
    "    mutate(WT = as.numeric(WT), HE = as.numeric(HE), HO = as.numeric(HO))"
   ]
  },
  {
   "cell_type": "code",
   "execution_count": null,
   "id": "4de5f7f1",
   "metadata": {},
   "outputs": [],
   "source": [
    "asso_lg_with_gts %>%\n",
    "    filter(Frequency > 0.5)"
   ]
  },
  {
   "cell_type": "code",
   "execution_count": null,
   "id": "6a6e9d2b",
   "metadata": {},
   "outputs": [],
   "source": [
    "asso_lg_with_gts %>%\n",
    "    ggplot(aes(x = Frequency)) +\n",
    "        geom_histogram(bins = 50, color = \"black\", fill = \"grey\") +\n",
    "        xlab(\"Allele frequency\") + ylab(\"Number of sites\") +\n",
    "        my_theme"
   ]
  },
  {
   "cell_type": "code",
   "execution_count": null,
   "id": "8d785b12",
   "metadata": {},
   "outputs": [],
   "source": [
    "asso_lg_with_gts %>%\n",
    "    mutate(num_gts = WT + HE + HO) %>%\n",
    "    ggplot(aes(x = num_gts)) +\n",
    "        geom_histogram(bins = 50, color = \"black\", fill = \"grey\") +\n",
    "        xlab(\"Number of genotypes\") + ylab(\"Number of sites\") +\n",
    "        my_theme"
   ]
  },
  {
   "cell_type": "code",
   "execution_count": null,
   "id": "e61d0124",
   "metadata": {
    "scrolled": true
   },
   "outputs": [],
   "source": [
    "asso_lg_with_gts %>%\n",
    "    ggplot(aes(x = WT)) +\n",
    "        geom_histogram(bins = 50, color = \"black\", fill = \"grey\") +\n",
    "        xlab(\"# HOM REFs\") + ylab(\"Number of sites\") +\n",
    "        my_theme"
   ]
  },
  {
   "cell_type": "code",
   "execution_count": null,
   "id": "cb8d0936",
   "metadata": {
    "scrolled": true
   },
   "outputs": [],
   "source": [
    "asso_lg_with_gts %>%\n",
    "    ggplot(aes(x = HE)) +\n",
    "        geom_histogram(bins = 50, color = \"black\", fill = \"grey\") +\n",
    "        xlab(\"# HETs\") + ylab(\"Number of sites\") +\n",
    "        my_theme"
   ]
  },
  {
   "cell_type": "code",
   "execution_count": null,
   "id": "2be4c03f",
   "metadata": {},
   "outputs": [],
   "source": [
    "asso_lg_with_gts %>%\n",
    "    ggplot(aes(x = HO)) +\n",
    "        geom_histogram(bins = 50, color = \"black\", fill = \"grey\") +\n",
    "        xlab(\"# HOM ALTs\") + ylab(\"Number of sites\") +\n",
    "        my_theme"
   ]
  },
  {
   "cell_type": "code",
   "execution_count": null,
   "id": "6c5cd674",
   "metadata": {},
   "outputs": [],
   "source": [
    "num_passing_filter <- function(thresh, df){\n",
    "    num_sites_df <- df %>%\n",
    "        mutate(passes_filter = case_when(WT >= thresh & HE >= thresh ~ 1,\n",
    "                                         WT >= thresh & HO >= thresh ~ 1,\n",
    "                                         HE >= thresh & HO >= thresh ~ 1,\n",
    "                                         TRUE ~ 0)) %>%\n",
    "        filter(passes_filter == 1) %>%\n",
    "        summarise(num_sites = n()) %>%\n",
    "        mutate(thresh = thresh)\n",
    "    return(num_sites_df)\n",
    "}\n",
    "\n",
    "\n",
    "my_seq <- seq(from = 10, to = 50)\n",
    "purrr::map_dfr(my_seq, num_passing_filter, asso_lg_with_gts) %>%\n",
    "    ggplot(aes(x = thresh, y = num_sites)) +\n",
    "        geom_point(size = 2.5) +\n",
    "        geom_line(linewidth = 1) +\n",
    "        xlab(\"minHigh threshold\") + ylab(\"Number of sites\") +\n",
    "        my_theme"
   ]
  },
  {
   "cell_type": "code",
   "execution_count": null,
   "id": "6fc24c85",
   "metadata": {},
   "outputs": [],
   "source": [
    "thresh <- 20\n",
    "asso_lg_with_gts %>%\n",
    "    mutate(passes_filter = case_when(WT >= thresh & HE >= thresh ~ 1,\n",
    "                                     WT >= thresh & HO >= thresh ~ 1,\n",
    "                                     HE >= thresh & HO >= thresh ~ 1,\n",
    "                                     TRUE ~ 0))"
   ]
  },
  {
   "cell_type": "code",
   "execution_count": null,
   "id": "d1d80cd8",
   "metadata": {},
   "outputs": [],
   "source": []
  }
 ],
 "metadata": {
  "kernelspec": {
   "display_name": "R",
   "language": "R",
   "name": "ir"
  },
  "language_info": {
   "codemirror_mode": "r",
   "file_extension": ".r",
   "mimetype": "text/x-r-source",
   "name": "R",
   "pygments_lexer": "r",
   "version": "4.2.3"
  }
 },
 "nbformat": 4,
 "nbformat_minor": 5
}
