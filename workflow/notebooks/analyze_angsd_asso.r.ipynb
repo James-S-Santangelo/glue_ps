{
 "cells": [
  {
   "cell_type": "code",
   "execution_count": null,
   "id": "85ff11e6",
   "metadata": {},
   "outputs": [],
   "source": [
    "library(tidyverse)\n",
    "source(\"scripts/r/functions_objects.R\")"
   ]
  },
  {
   "cell_type": "code",
   "execution_count": null,
   "id": "6df57427",
   "metadata": {},
   "outputs": [],
   "source": [
    "asso_freq <- read_delim(snakemake@input[[1]], delim = \"\\t\")\n",
    "asso_freq"
   ]
  },
  {
   "cell_type": "code",
   "execution_count": null,
   "id": "7be75917",
   "metadata": {},
   "outputs": [],
   "source": [
    "asso_freq %>%\n",
    "    ggplot(aes(x = P)) +\n",
    "        geom_histogram(aes(y=..density..), bins = 100, color = \"black\", fill = \"grey\") +\n",
    "        xlab(\"P-value\") +\n",
    "        my_theme"
   ]
  },
  {
   "cell_type": "code",
   "execution_count": null,
   "id": "1921d1e2",
   "metadata": {},
   "outputs": [],
   "source": [
    "asso_freq %>%\n",
    "    ggplot(aes(sample = LRT)) +\n",
    "        stat_qq(distribution=stats::qchisq, dparams=list(df = 1)) +\n",
    "        stat_qq_line(distribution=stats::qchisq, dparams=list(df = 1)) +\n",
    "        ylab(\"LRT\") + xlab(bquote(chi[1]^2)) +\n",
    "        my_theme"
   ]
  },
  {
   "cell_type": "code",
   "execution_count": null,
   "id": "24617bb4",
   "metadata": {},
   "outputs": [],
   "source": [
    "asso_freq %>%\n",
    "    mutate(qval = p.adjust(P, method = \"fdr\")) %>%\n",
    "    mutate(is_outlier = ifelse(qval <= 0.05, 1, 0)) %>%\n",
    "    group_by(is_outlier) %>%\n",
    "    summarize(n = n())"
   ]
  },
  {
   "cell_type": "code",
   "execution_count": null,
   "id": "7fa4870d",
   "metadata": {
    "scrolled": false
   },
   "outputs": [],
   "source": [
    "asso_lg <- read_delim(snakemake@input[[2]], delim = \"\\t\") %>%\n",
    "    mutate(passes_filter = ifelse(is.nan(beta), 0, 1))\n",
    "asso_lg"
   ]
  },
  {
   "cell_type": "code",
   "execution_count": null,
   "id": "a5e8a829",
   "metadata": {},
   "outputs": [],
   "source": [
    "asso_lg %>%\n",
    "    group_by(passes_filter) %>%\n",
    "    summarize(n = n())"
   ]
  },
  {
   "cell_type": "code",
   "execution_count": null,
   "id": "36a5b789",
   "metadata": {},
   "outputs": [],
   "source": [
    "asso_lg %>%\n",
    "    filter(passes_filter == 1) %>%\n",
    "    ggplot(aes(x = P)) +\n",
    "        geom_histogram(aes(y=..density..), bins = 100, color = \"black\", fill = \"grey\") +\n",
    "        xlab(\"P-value\") +\n",
    "        my_theme"
   ]
  },
  {
   "cell_type": "code",
   "execution_count": null,
   "id": "a26bf77e",
   "metadata": {},
   "outputs": [],
   "source": [
    "asso_lg %>%\n",
    "    filter(passes_filter == 1) %>%\n",
    "    ggplot(aes(sample = LRT)) +\n",
    "        stat_qq(distribution=stats::qchisq, dparams=list(df = 1)) +\n",
    "        stat_qq_line(distribution=stats::qchisq, dparams=list(df = 1)) +\n",
    "        ylab(\"LRT\") + xlab(bquote(chi[1]^2)) +\n",
    "        my_theme"
   ]
  },
  {
   "cell_type": "code",
   "execution_count": null,
   "id": "f8280b0c",
   "metadata": {},
   "outputs": [],
   "source": [
    "asso_lg %>%\n",
    "    filter(passes_filter == 1) %>%\n",
    "    mutate(qval = p.adjust(P, method = \"fdr\")) %>%\n",
    "    mutate(is_outlier = ifelse(qval <= 0.05, 1, 0)) %>%\n",
    "    group_by(is_outlier) %>%\n",
    "    summarize(n = n())"
   ]
  },
  {
   "cell_type": "code",
   "execution_count": null,
   "id": "de1bc260",
   "metadata": {},
   "outputs": [],
   "source": [
    "asso_lg %>%\n",
    "    filter(passes_filter == 1) %>%\n",
    "    mutate(qval = p.adjust(P, method = \"fdr\")) %>%\n",
    "    mutate(is_outlier = ifelse(qval <= 0.05, 1, 0)) %>%\n",
    "    filter(is_outlier == 1)"
   ]
  },
  {
   "cell_type": "code",
   "execution_count": null,
   "id": "9fe8e296",
   "metadata": {},
   "outputs": [],
   "source": [
    "asso_lg %>%\n",
    "    filter(passes_filter == 1) %>%\n",
    "    ggplot(aes(x = beta)) +\n",
    "        geom_histogram(bins = 50, color = \"black\", fill = \"white\") +\n",
    "        my_theme"
   ]
  }
 ],
 "metadata": {
  "kernelspec": {
   "display_name": "R",
   "language": "R",
   "name": "ir"
  },
  "language_info": {
   "codemirror_mode": "r",
   "file_extension": ".r",
   "mimetype": "text/x-r-source",
   "name": "R",
   "pygments_lexer": "r",
   "version": "4.2.3"
  }
 },
 "nbformat": 4,
 "nbformat_minor": 5
}
