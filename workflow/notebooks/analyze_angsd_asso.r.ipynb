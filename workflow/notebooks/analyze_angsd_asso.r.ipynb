{
 "cells": [
  {
   "cell_type": "code",
   "execution_count": null,
   "id": "85ff11e6",
   "metadata": {},
   "outputs": [],
   "source": [
    "library(tidyverse)\n",
    "source(\"scripts/r/functions_objects.R\")"
   ]
  },
  {
   "cell_type": "code",
   "execution_count": null,
   "id": "6df57427",
   "metadata": {
    "scrolled": true
   },
   "outputs": [],
   "source": [
    "asso_freq <- read_delim(snakemake@input[[\"freq\"]], delim = \"\\t\") %>% \n",
    "    filter(Frequency <= 0.5) %>% \n",
    "    mutate(qval = p.adjust(P, method = \"fdr\"),\n",
    "          is_outlier = ifelse(qval <= 0.05, 1, 0)) %>% \n",
    "    rename(\"chrom\" = \"Chromosome\") %>% \n",
    "    remap_chr_names()\n",
    "asso_freq"
   ]
  },
  {
   "cell_type": "code",
   "execution_count": null,
   "id": "7be75917",
   "metadata": {},
   "outputs": [],
   "source": [
    "brks <- hist(asso_freq$P, plot=F, breaks=50)$breaks\n",
    "freq_pval_hist <- asso_freq %>% \n",
    "    ggplot(aes(x = P)) +\n",
    "    geom_histogram(aes(y = ..density..), bins = 50, color = \"black\", fill = \"grey\", breaks = brks) +\n",
    "    scale_x_continuous(breaks = seq(0, 1, 0.2)) +\n",
    "    geom_hline(yintercept = 1, color = \"red\", linetype = \"dashed\") +\n",
    "    ylab(\"Density\") + xlab(\"P-value\") +\n",
    "    my_theme\n",
    "freq_pval_hist\n",
    "\n",
    "ggsave(filename = snakemake@output[[\"freq_pval_hist\"]], plot = freq_pval_hist, device = 'pdf', \n",
    "       width = 8, height = 8, units = 'in', dpi = 600)"
   ]
  },
  {
   "cell_type": "code",
   "execution_count": null,
   "id": "1921d1e2",
   "metadata": {},
   "outputs": [],
   "source": [
    "freq_pval_qq <- asso_freq %>%\n",
    "    ggplot(aes(sample = LRT)) +\n",
    "        stat_qq(distribution=stats::qchisq, dparams=list(df = 1)) +\n",
    "        stat_qq_line(distribution=stats::qchisq, dparams=list(df = 1)) +\n",
    "        ylab(\"LRT\") + xlab(bquote(chi[1]^2)) +\n",
    "        my_theme\n",
    "freq_pval_qq\n",
    "\n",
    "ggsave(filename = snakemake@output[[\"freq_pval_qq\"]], plot = freq_pval_qq, device = 'pdf', \n",
    "       width = 8, height = 8, units = 'in', dpi = 600)"
   ]
  },
  {
   "cell_type": "code",
   "execution_count": null,
   "id": "24617bb4",
   "metadata": {},
   "outputs": [],
   "source": [
    "asso_freq %>%\n",
    "    group_by(is_outlier) %>%\n",
    "    summarize(n = n())"
   ]
  },
  {
   "cell_type": "code",
   "execution_count": null,
   "id": "b0f03fde-be76-40ef-a62e-a9a392da19ff",
   "metadata": {},
   "outputs": [],
   "source": [
    "asso_freq %>%\n",
    "    filter(is_outlier == 1) %>%\n",
    "    write_delim(., snakemake@output[[\"freq_outliers\"]], delim = \"\\t\")"
   ]
  },
  {
   "cell_type": "code",
   "execution_count": null,
   "id": "9cbf6aec-39bf-4986-a32d-22cf031dea3a",
   "metadata": {},
   "outputs": [],
   "source": [
    "options(repr.plot.width = 20, repr.plot.height = 6)\n",
    "\n",
    "# Setting up cummulative genome-wide x-axis\n",
    "data_cum <- asso_freq %>% \n",
    "    group_by(chrom) %>% \n",
    "    summarise(max_pos = max(Position)) %>% \n",
    "    mutate(pos_add = lag(cumsum(max_pos), default = 0)) %>% \n",
    "    dplyr::select(chrom, pos_add)\n",
    "\n",
    "df_mod <- asso_freq %>%\n",
    "    inner_join(data_cum, by = \"chrom\") %>% \n",
    "    mutate(pos_cum = Position + pos_add)  %>% \n",
    "    mutate(chrom_cat = case_when(chrom == '1' ~ 'One',\n",
    "                                 chrom == '2' ~ 'Two',\n",
    "                                 chrom == '3' ~ 'One',\n",
    "                                 chrom == '4' ~ 'Two',\n",
    "                                 chrom == '5' ~ 'One',\n",
    "                                 chrom == '6' ~ 'Two',\n",
    "                                 chrom == '7' ~ 'One',\n",
    "                                 chrom == '8' ~ 'Two',\n",
    "                                 chrom == '9' ~ 'One',\n",
    "                                 chrom == '10' ~ 'Two',\n",
    "                                 chrom == '11' ~ 'One',\n",
    "                                 chrom == '12' ~ 'Two',\n",
    "                                 chrom == '13' ~ 'One',\n",
    "                                 chrom == '14' ~ 'Two',\n",
    "                                 chrom == '15' ~ 'One',\n",
    "                                 chrom == '16' ~ 'Two'))\n",
    "\n",
    "axis_set <- df_mod %>% \n",
    "  group_by(chrom) %>% \n",
    "  summarize(center = mean(pos_cum))\n",
    "\n",
    "# Get outliers to plot as separate layer\n",
    "outliers <- df_mod %>% filter(is_outlier == 1)\n",
    "not_outlier <- df_mod %>% filter(is_outlier == 0)"
   ]
  },
  {
   "cell_type": "code",
   "execution_count": null,
   "id": "e459d07b-24f7-4956-b971-d300ced8632a",
   "metadata": {},
   "outputs": [],
   "source": [
    "freq_manhat <- ggplot() +\n",
    "        geom_point(data = not_outlier, shape = 21, alpha = 0.4, size = 1, \n",
    "                   aes(x = pos_cum, y = -log10(qval), fill = chrom_cat, color = chrom_cat), , show.legend = FALSE) +\n",
    "        geom_point(data = outliers, shape = 21, alpha = 1, size = 1, color = \"red\", fill = \"red\",\n",
    "                   aes(x = pos_cum, y = -log10(qval))) +\n",
    "        geom_hline(yintercept = -log10(0.05), color = \"grey40\", linetype = \"dashed\") +\n",
    "        scale_x_continuous(label = axis_set$chrom, breaks = axis_set$center) +\n",
    "        # scale_y_continuous(expand = c(0,0), breaks = seq(0, 4, 1)) +\n",
    "        # coord_cartesian(ylim = c(0, 4)) +\n",
    "        scale_fill_manual(values = c(\"black\", \"grey40\")) + \n",
    "        scale_color_manual(values = c(\"black\", \"grey40\")) + \n",
    "        ylab(expression(-log[10] * \"(q-value)\")) + xlab('Chromosomes') +\n",
    "        theme_classic() +\n",
    "        my_theme +\n",
    "        theme(legend.position = \"none\")\n",
    "freq_manhat\n",
    "\n",
    "ggsave(filename = snakemake@output[[\"freq_manhat\"]], plot = freq_manhat, \n",
    "       height = 8, width = 20, device = \"pdf\", dpi = 600, units = \"in\")"
   ]
  },
  {
   "cell_type": "code",
   "execution_count": null,
   "id": "7fa4870d",
   "metadata": {
    "scrolled": true
   },
   "outputs": [],
   "source": [
    "asso_score <- read_delim(snakemake@input[[\"score\"]], delim = \"\\t\") %>%\n",
    "    filter(Frequency <= 0.5) %>%\n",
    "    filter(LRT != -999) %>% \n",
    "    mutate(qval = p.adjust(P, method = \"fdr\"),\n",
    "          is_outlier = ifelse(qval <= 0.05, 1, 0)) %>% \n",
    "    rename(\"chrom\" = \"Chromosome\") %>% \n",
    "    remap_chr_names()\n",
    "asso_score"
   ]
  },
  {
   "cell_type": "code",
   "execution_count": null,
   "id": "36a5b789",
   "metadata": {},
   "outputs": [],
   "source": [
    "options(repr.plot.width = 8, repr.plot.height = 8)\n",
    "brks <- hist(asso_score$P, plot=F, breaks=50)$breaks\n",
    "score_pval_hist <- asso_score %>% \n",
    "    ggplot(aes(x = P)) +\n",
    "    geom_histogram(aes(y = ..density..), bins = 50, color = \"black\", fill = \"grey\", breaks = brks) +\n",
    "    scale_x_continuous(breaks = seq(0, 1, 0.2)) +\n",
    "    geom_hline(yintercept = 1, color = \"red\", linetype = \"dashed\") +\n",
    "    ylab(\"Density\") + xlab(\"P-value\") +\n",
    "    my_theme\n",
    "score_pval_hist\n",
    "\n",
    "ggsave(filename = snakemake@output[[\"score_pval_hist\"]], plot = score_pval_hist, device = 'pdf', \n",
    "       width = 8, height = 8, units = 'in', dpi = 600)"
   ]
  },
  {
   "cell_type": "code",
   "execution_count": null,
   "id": "a26bf77e",
   "metadata": {},
   "outputs": [],
   "source": [
    "score_pval_qq <- asso_score %>%\n",
    "    ggplot(aes(sample = LRT)) +\n",
    "        stat_qq(distribution=stats::qchisq, dparams=list(df = 1)) +\n",
    "        stat_qq_line(distribution=stats::qchisq, dparams=list(df = 1)) +\n",
    "        ylab(\"LRT\") + xlab(bquote(chi[1]^2)) +\n",
    "        my_theme\n",
    "score_pval_qq\n",
    "\n",
    "ggsave(filename = snakemake@output[[\"score_pval_qq\"]], plot = score_pval_qq, device = 'pdf', \n",
    "       width = 8, height = 8, units = 'in', dpi = 600)"
   ]
  },
  {
   "cell_type": "code",
   "execution_count": null,
   "id": "69f7691a-c979-4bf6-abed-d4dcd8d4e0af",
   "metadata": {},
   "outputs": [],
   "source": [
    "asso_score %>%\n",
    "    group_by(is_outlier) %>%\n",
    "    summarize(n = n())"
   ]
  },
  {
   "cell_type": "code",
   "execution_count": null,
   "id": "23aa295e-ff5c-485e-a5f6-7870302f6174",
   "metadata": {},
   "outputs": [],
   "source": [
    "asso_score %>%\n",
    "    filter(is_outlier == 1) %>%\n",
    "    write_delim(., snakemake@output[[\"score_outliers\"]], delim = \"\\t\")"
   ]
  },
  {
   "cell_type": "code",
   "execution_count": null,
   "id": "d1d80cd8",
   "metadata": {},
   "outputs": [],
   "source": [
    "options(repr.plot.width = 20, repr.plot.height = 6)\n",
    "\n",
    "# Setting up cummulative genome-wide x-axis\n",
    "data_cum <- asso_score %>% \n",
    "    group_by(chrom) %>% \n",
    "    summarise(max_pos = max(Position)) %>% \n",
    "    mutate(pos_add = lag(cumsum(max_pos), default = 0)) %>% \n",
    "    dplyr::select(chrom, pos_add)\n",
    "\n",
    "df_mod <- asso_score %>%\n",
    "    inner_join(data_cum, by = \"chrom\") %>% \n",
    "    mutate(pos_cum = Position + pos_add)  %>% \n",
    "    mutate(chrom_cat = case_when(chrom == '1' ~ 'One',\n",
    "                                 chrom == '2' ~ 'Two',\n",
    "                                 chrom == '3' ~ 'One',\n",
    "                                 chrom == '4' ~ 'Two',\n",
    "                                 chrom == '5' ~ 'One',\n",
    "                                 chrom == '6' ~ 'Two',\n",
    "                                 chrom == '7' ~ 'One',\n",
    "                                 chrom == '8' ~ 'Two',\n",
    "                                 chrom == '9' ~ 'One',\n",
    "                                 chrom == '10' ~ 'Two',\n",
    "                                 chrom == '11' ~ 'One',\n",
    "                                 chrom == '12' ~ 'Two',\n",
    "                                 chrom == '13' ~ 'One',\n",
    "                                 chrom == '14' ~ 'Two',\n",
    "                                 chrom == '15' ~ 'One',\n",
    "                                 chrom == '16' ~ 'Two'))\n",
    "\n",
    "axis_set <- df_mod %>% \n",
    "  group_by(chrom) %>% \n",
    "  summarize(center = mean(pos_cum))\n",
    "\n",
    "# Get outliers to plot as separate layer\n",
    "outliers <- df_mod %>% filter(is_outlier == 1)\n",
    "not_outlier <- df_mod %>% filter(is_outlier == 0) %>% sample_frac(0.01)"
   ]
  },
  {
   "cell_type": "code",
   "execution_count": null,
   "id": "12c7f272-df23-4909-9569-b8bad3d8b642",
   "metadata": {},
   "outputs": [],
   "source": [
    "score_manhat <- ggplot() +\n",
    "        geom_point(data = not_outlier, shape = 21, alpha = 0.4, size = 1, \n",
    "                   aes(x = pos_cum, y = -log10(qval), fill = chrom_cat, color = chrom_cat), , show.legend = FALSE) +\n",
    "        geom_point(data = outliers, shape = 21, alpha = 1, size = 1, color = \"red\", fill = \"red\",\n",
    "                   aes(x = pos_cum, y = -log10(qval))) +\n",
    "        geom_hline(yintercept = -log10(0.05), color = \"grey40\", linetype = \"dashed\") +\n",
    "        scale_x_continuous(label = axis_set$chrom, breaks = axis_set$center) +\n",
    "        # scale_y_continuous(expand = c(0,0), breaks = seq(0, 4, 1)) +\n",
    "        # coord_cartesian(ylim = c(0, 4)) +\n",
    "        scale_fill_manual(values = c(\"black\", \"grey40\")) + \n",
    "        scale_color_manual(values = c(\"black\", \"grey40\")) + \n",
    "        ylab(expression(-log[10] * \"(q-value)\")) + xlab('Chromosomes') +\n",
    "        theme_classic() +\n",
    "        my_theme +\n",
    "        theme(legend.position = \"none\")\n",
    "score_manhat\n",
    "\n",
    "ggsave(filename = snakemake@output[[\"score_manhat\"]], plot = score_manhat, \n",
    "       height = 8, width = 20, device = \"pdf\", dpi = 600, units = \"in\")"
   ]
  },
  {
   "cell_type": "code",
   "execution_count": null,
   "id": "833f8d2c-113e-4617-9d6f-a6190fa31a2f",
   "metadata": {},
   "outputs": [],
   "source": []
  }
 ],
 "metadata": {
  "kernelspec": {
   "display_name": "R",
   "language": "R",
   "name": "ir"
  },
  "language_info": {
   "codemirror_mode": "r",
   "file_extension": ".r",
   "mimetype": "text/x-r-source",
   "name": "R",
   "pygments_lexer": "r",
   "version": "4.2.3"
  }
 },
 "nbformat": 4,
 "nbformat_minor": 5
}
