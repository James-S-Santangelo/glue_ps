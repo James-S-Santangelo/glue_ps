{
 "cells": [
  {
   "cell_type": "code",
   "execution_count": null,
   "id": "d6bc078c-e4a3-4b41-903d-f99382137790",
   "metadata": {},
   "outputs": [],
   "source": [
    "library(tidyverse)\n",
    "library(factoextra)\n",
    "source(\"scripts/r/baypass_utils.R\")\n",
    "source(\"scripts/r/functions_objects.R\")"
   ]
  },
  {
   "cell_type": "markdown",
   "id": "5122717b-8077-4bfa-b464-a56fb951e41a",
   "metadata": {},
   "source": [
    "## Compare Omega matrices within and between seeds\n",
    "\n",
    "- Compare Omega matrices estimated on different SNP subsets within random seeds using Förstner and Moonen Distance\n",
    "- Plot FMD values across 3 different random seeds"
   ]
  },
  {
   "cell_type": "code",
   "execution_count": null,
   "id": "c5539393",
   "metadata": {},
   "outputs": [],
   "source": [
    "# Load Omega matrices for all BayPass runs\n",
    "# Results in DF with `seed`, `split`, and `mat` columns\n",
    "# `mat` is a tidy nested column containing the \n",
    "load_omega_mat <- function(path){\n",
    "    seed <- str_extract(path, \"(?<=seed)(\\\\d+)(?=_)\")\n",
    "    split <- str_extract(path, \"(?<=split)(\\\\d+)(?=_)\")\n",
    "    mat <- suppressMessages(read_table(path, col_names = FALSE))\n",
    "    df_out <- tibble(seed = seed, split = split, mat = mat) %>% \n",
    "        nest_by(seed, split, .key = \"mat\")\n",
    "    return(df_out)# Load Omega matrices for all BayPass runs\n",
    "}\n",
    "\n",
    "mat_df <- snakemake@input[[\"obs_omega_mat\"]] %>% \n",
    "    purrr::map_dfr(load_omega_mat) %>% \n",
    "    ungroup() %>% \n",
    "    as_tibble()"
   ]
  },
  {
   "cell_type": "code",
   "execution_count": null,
   "id": "184546aa-64c7-4a39-9427-6cbdb43e228f",
   "metadata": {},
   "outputs": [],
   "source": [
    "# Estimate FMD between all pairwise SNP subsets within seeds\n",
    "# Return DF in long format with pariwise FMD values\n",
    "calculate_fmd_within_seeds <- function(data_df){\n",
    "    \n",
    "    # Create dataframe with all pairwise combinations of matrices\n",
    "    # Ignores self-comparisons and permutations\n",
    "    fmd_df <- utils::combn(0:(nrow(data_df) - 1), 2) %>% \n",
    "        t() %>% \n",
    "        as.data.frame() %>% \n",
    "        rename(\"n1\" = \"V1\", \"n2\" = \"V2\")\n",
    "    seed <- data_df %>% pull(seed) %>% unique()\n",
    "\n",
    "    calculate_fmd <- function(fmd_df, data_df){\n",
    "        n1 <- fmd_df %>% pull(n1)\n",
    "        n2 <- fmd_df %>% pull(n2)\n",
    "        mat1 <- data_df %>% filter(split == n1) %>% unnest(mat) %>% dplyr::select(-seed, -split) %>% as.matrix()\n",
    "        mat2 <- data_df %>% filter(split == n2) %>% unnest(mat) %>% dplyr::select(-seed, -split) %>% as.matrix()\n",
    "        \n",
    "        fmd <- fmd.dist(mat1, mat2)\n",
    "        df_mod <- fmd_df %>% \n",
    "            mutate(fmd = fmd)\n",
    "        return(df_mod)\n",
    "    }\n",
    "    \n",
    "    fmd_df <- fmd_df %>% \n",
    "        group_split(n1, n2) %>% \n",
    "        purrr::map_dfr(., calculate_fmd, data_df = data_df) %>% \n",
    "        mutate(seed = seed)\n",
    "\n",
    "    return(fmd_df)\n",
    "}\n",
    "\n",
    "fmd_within_seeds <- mat_df %>% \n",
    "    group_split(seed) %>% \n",
    "    purrr::map_dfr(calculate_fmd_within_seeds)"
   ]
  },
  {
   "cell_type": "code",
   "execution_count": null,
   "id": "c9b4fa4d-045e-4508-aaef-0da8ee69cad7",
   "metadata": {},
   "outputs": [],
   "source": [
    "# Summary statistics for FMD distances\n",
    "fmd_within_seeds %>% \n",
    "    group_by(seed) %>% \n",
    "    reframe(mean = mean(fmd),\n",
    "            sd = sd(fmd),\n",
    "            median = median(fmd),\n",
    "            min = min(fmd),\n",
    "            max = max(fmd)) %>% \n",
    "    write_delim(snakemake@output[[\"fmd_sum\"]], delim = '\\t')"
   ]
  },
  {
   "cell_type": "code",
   "execution_count": null,
   "id": "b7e81c23-5a7d-49e0-8805-f6491ca3790c",
   "metadata": {},
   "outputs": [],
   "source": [
    "# Boxplot of FMD values for each random seed\n",
    "fmd_box <- fmd_within_seeds %>% \n",
    "    ggplot(aes(x = seed, y = fmd)) +\n",
    "        geom_boxplot() +\n",
    "        xlab(\"Random seed\") +\n",
    "        ylab(\"Förstner and Moonen Distance (FMD)\") +\n",
    "        coord_cartesian(ylim = c(0.52, 0.63)) +\n",
    "        scale_y_continuous(breaks = seq(0.52, 0.62, 0.02)) +\n",
    "        my_theme\n",
    "fmd_box\n",
    "ggsave(filename = snakemake@output[[\"fmd_box\"]], plot = fmd_box, \n",
    "       height = 8, width = 8, device = \"pdf\", dpi = 600, units = \"in\")"
   ]
  },
  {
   "cell_type": "markdown",
   "id": "e47d8c90-0254-4b21-a5af-67a0da3f270f",
   "metadata": {},
   "source": [
    "## Compare alphas and betas within and between seeds"
   ]
  },
  {
   "cell_type": "code",
   "execution_count": null,
   "id": "d6e7c247-ddc1-4fc9-8659-b188b43c9d63",
   "metadata": {},
   "outputs": [],
   "source": [
    "load_beta_params <- function(path){\n",
    "    seed <- str_extract(path, \"(?<=seed)(\\\\d+)(?=_)\")\n",
    "    split <- str_extract(path, \"(?<=split)(\\\\d+)(?=_)\")\n",
    "    betas_df <- suppressMessages(read_table(path, col_names = TRUE)) %>% \n",
    "        mutate(seed = seed, split = split)\n",
    "    return(betas_df)\n",
    "}\n",
    "\n",
    "betas_df <- snakemake@input[[\"obs_beta_sum\"]] %>% \n",
    "    purrr::map_dfr(load_beta_params)"
   ]
  },
  {
   "cell_type": "code",
   "execution_count": null,
   "id": "eb82220d-9b74-435b-93e0-4b44ce36ff84",
   "metadata": {},
   "outputs": [],
   "source": [
    "alpha_box <- betas_df %>% \n",
    "    filter(PARAM == \"a_beta_pi\") %>% \n",
    "    ggplot(aes(x = seed, y = Mean)) +\n",
    "        geom_boxplot() +\n",
    "        xlab(\"Random seed\") +\n",
    "        ylab(\"a_beta_pi\") +\n",
    "        # coord_cartesian(ylim = c(0.52, 0.63)) +\n",
    "        # scale_y_continuous(breaks = seq(0.52, 0.62, 0.02)) +\n",
    "        my_theme\n",
    "alpha_box\n",
    "ggsave(filename = snakemake@output[[\"alpha_box\"]], plot = alpha_box, \n",
    "       height = 8, width = 8, device = \"pdf\", dpi = 600, units = \"in\")"
   ]
  },
  {
   "cell_type": "code",
   "execution_count": null,
   "id": "4d76c2a1-de87-451a-b9b5-63eb9c49930c",
   "metadata": {},
   "outputs": [],
   "source": [
    "beta_box <- betas_df %>% \n",
    "    filter(PARAM == \"b_beta_pi\") %>% \n",
    "    ggplot(aes(x = seed, y = Mean)) +\n",
    "        geom_boxplot() +\n",
    "        xlab(\"Random seed\") +\n",
    "        ylab(\"b_beta_pi\") +\n",
    "        # coord_cartesian(ylim = c(0.52, 0.63)) +\n",
    "        # scale_y_continuous(breaks = seq(0.52, 0.62, 0.02)) +\n",
    "        my_theme\n",
    "beta_box\n",
    "ggsave(filename = snakemake@output[[\"beta_box\"]], plot = beta_box, \n",
    "       height = 8, width = 8, device = \"pdf\", dpi = 600, units = \"in\")"
   ]
  },
  {
   "cell_type": "markdown",
   "id": "52e882f6-9ca9-41b6-bbc4-abbe1291209f",
   "metadata": {},
   "source": [
    "## Compare observed vs. simulated omega and betas\n",
    "\n",
    "- Compare omega matrix from simulated `BayPass` run to omega matrix from observed data used to simulate the input allele counts\n",
    "- Do the same as above for the posterio means of $\\alpha_{\\pi}$ and $b_{\\pi}$"
   ]
  },
  {
   "cell_type": "code",
   "execution_count": null,
   "id": "9b0ae98d-84a3-4c3c-b150-747fac756ede",
   "metadata": {},
   "outputs": [],
   "source": [
    "obs_mat <- mat_df %>% filter(seed == 3700 & split == 37) %>% unnest(mat) %>% dplyr::select(-seed, -split) %>% as.matrix()\n",
    "sim_mat <- read_table(snakemake@input[[\"sim_omega_mat\"]], col_names = FALSE) %>% as.matrix()\n",
    "obs_sim_fmd <- fmd.dist(obs_mat, sim_mat)"
   ]
  },
  {
   "cell_type": "code",
   "execution_count": null,
   "id": "2c9b8e91-8b95-43f5-9d0a-40a5867f642d",
   "metadata": {},
   "outputs": [],
   "source": [
    "obs_alpha <- betas_df %>% filter(seed == 3700 & split == 37 & PARAM == \"a_beta_pi\") %>% pull(Mean)\n",
    "sim_betas <- read_table(snakemake@input[[\"sim_beta_sum\"]])\n",
    "sim_alpha <- sim_betas %>% filter(PARAM == \"a_beta_pi\") %>% pull(Mean)\n",
    "print(obs_alpha)\n",
    "print(sim_alpha)"
   ]
  },
  {
   "cell_type": "code",
   "execution_count": null,
   "id": "e14cb726-973f-4893-a0ba-e1d60703ff6d",
   "metadata": {},
   "outputs": [],
   "source": [
    "obs_beta <- betas_df %>% filter(seed == 3700 & split == 37 & PARAM == \"b_beta_pi\") %>% pull(Mean)\n",
    "sim_beta <- sim_betas %>% filter(PARAM == \"b_beta_pi\") %>% pull(Mean)\n",
    "print(obs_beta)\n",
    "print(sim_beta)"
   ]
  },
  {
   "cell_type": "code",
   "execution_count": null,
   "id": "2890f0af-e321-410f-ae71-ca97b58920e6",
   "metadata": {},
   "outputs": [],
   "source": [
    "data.frame(\"comparison\" = c(\"FMD\", \"obs_alpha\", \"obs_beta\", \"sim_alpha\", \"sim_beta\"),\n",
    "           \"value\" = c(obs_sim_fmd, obs_alpha, obs_beta, sim_alpha, sim_beta)) %>% \n",
    "    write_delim(snakemake@output[[\"obs_sim_stats\"]], delim = \"\\t\")"
   ]
  },
  {
   "cell_type": "markdown",
   "id": "dfae06f7-d50c-4cd5-8178-f1fdcc7f388f",
   "metadata": {},
   "source": [
    "## Plot population structure of random run\n",
    "\n",
    "- Plot SVD and PCA of random run, colored by habitat or continent"
   ]
  },
  {
   "cell_type": "code",
   "execution_count": null,
   "id": "8d14368e-df30-4270-a9a3-22963567dfa8",
   "metadata": {},
   "outputs": [],
   "source": [
    "random_run <- mat_df %>% filter(seed == 3700 & split == 37)\n",
    "random_mat <- random_run$mat[[1]] %>% as.matrix()"
   ]
  },
  {
   "cell_type": "code",
   "execution_count": null,
   "id": "2fd51d1f-6cce-484a-a2b5-fbc0ba18e95b",
   "metadata": {},
   "outputs": [],
   "source": [
    "samples <- read_delim(snakemake@config[[\"samples\"]], delim='\\t') %>% \n",
    "    dplyr::select(continent, site, city, range) %>% \n",
    "    rename(\"habitat\" = \"site\") %>% \n",
    "    distinct()\n",
    "head(samples)"
   ]
  },
  {
   "cell_type": "code",
   "execution_count": null,
   "id": "fbeae872-4d57-4c59-8213-030473291819",
   "metadata": {},
   "outputs": [],
   "source": [
    "rand_omega_pca <- prcomp(random_mat)"
   ]
  },
  {
   "cell_type": "code",
   "execution_count": null,
   "id": "fd1291d1-6cad-46f9-a16c-f968cc1f3f78",
   "metadata": {},
   "outputs": [],
   "source": [
    "pc1_var <- round(get_eigenvalue(rand_omega_pca)[\"Dim.1\", \"variance.percent\"], 2)\n",
    "pc2_var <- round(get_eigenvalue(rand_omega_pca)[\"Dim.2\", \"variance.percent\"], 2)\n",
    "\n",
    "rand_pca_plot <- get_pca_ind(rand_omega_pca)$coord %>% \n",
    "    bind_cols(., samples) %>% \n",
    "    ggplot(aes(x = Dim.1, y = Dim.2)) +\n",
    "        geom_line(aes(group = city)) +\n",
    "        geom_point(aes(color = continent, shape = habitat), size = 5) +\n",
    "        scale_color_manual(values = c(\"#f2cd00\", \"#ef6a00\", \"#cd001a\", \"#538d22\", \"#1961ae\", \"#61007d\")) +\n",
    "        xlab(paste0(\"PC1 (\", pc1_var, \"%)\")) + ylab(paste0(\"PC2 (\", pc2_var, \"%)\")) +\n",
    "        my_theme\n",
    "rand_pca_plot\n",
    "ggsave(filename = snakemake@output[[\"obs_rand_pca\"]], plot = rand_pca_plot, \n",
    "       height = 8, width = 8, device = \"pdf\", dpi = 600, units = \"in\")"
   ]
  },
  {
   "cell_type": "code",
   "execution_count": null,
   "id": "60f81996-9e50-404c-a5b0-1f5131ba970e",
   "metadata": {},
   "outputs": [],
   "source": [
    "sim_omega_pca <- prcomp(sim_mat)"
   ]
  },
  {
   "cell_type": "code",
   "execution_count": null,
   "id": "07c31ef6-6449-4099-8139-21fc90fd2276",
   "metadata": {},
   "outputs": [],
   "source": [
    "pc1_var <- round(get_eigenvalue(sim_omega_pca)[\"Dim.1\", \"variance.percent\"], 2)\n",
    "pc2_var <- round(get_eigenvalue(sim_omega_pca)[\"Dim.2\", \"variance.percent\"], 2)\n",
    "\n",
    "sim_pca_plot <- get_pca_ind(sim_omega_pca)$coord %>% \n",
    "    bind_cols(., samples) %>% \n",
    "    ggplot(aes(x = Dim.1, y = Dim.2)) +\n",
    "        geom_line(aes(group = city)) +\n",
    "        geom_point(aes(color = continent, shape = habitat), size = 5) +\n",
    "        scale_color_manual(values = c(\"#f2cd00\", \"#ef6a00\", \"#cd001a\", \"#538d22\", \"#1961ae\", \"#61007d\")) +\n",
    "        xlab(paste0(\"PC1 (\", pc1_var, \"%)\")) + ylab(paste0(\"PC2 (\", pc2_var, \"%)\")) +\n",
    "        my_theme\n",
    "sim_pca_plot\n",
    "ggsave(filename = snakemake@output[[\"sim_pca\"]], plot = sim_pca_plot, \n",
    "       height = 8, width = 8, device = \"pdf\", dpi = 600, units = \"in\")"
   ]
  },
  {
   "cell_type": "code",
   "execution_count": null,
   "id": "44e6832b-7d26-4f09-832b-fd7fd65bf58a",
   "metadata": {},
   "outputs": [],
   "source": []
  }
 ],
 "metadata": {
  "kernelspec": {
   "display_name": "R",
   "language": "R",
   "name": "ir"
  },
  "language_info": {
   "codemirror_mode": "r",
   "file_extension": ".r",
   "mimetype": "text/x-r-source",
   "name": "R",
   "pygments_lexer": "r",
   "version": "4.3.3"
  }
 },
 "nbformat": 4,
 "nbformat_minor": 5
}
