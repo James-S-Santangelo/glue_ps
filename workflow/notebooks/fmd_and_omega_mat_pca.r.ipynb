{
 "cells": [
  {
   "cell_type": "code",
   "execution_count": null,
   "id": "d6bc078c-e4a3-4b41-903d-f99382137790",
   "metadata": {},
   "outputs": [],
   "source": [
    "library(tidyverse)\n",
    "library(factoextra)\n",
    "source(\"scripts/r/baypass_utils.R\")\n",
    "source(\"scripts/r/functions_objects.R\")"
   ]
  },
  {
   "cell_type": "markdown",
   "id": "dfae06f7-d50c-4cd5-8178-f1fdcc7f388f",
   "metadata": {},
   "source": [
    "## Plot population structure of random run\n",
    "\n",
    "- Plot SVD and PCA, colored by habitat or continent"
   ]
  },
  {
   "cell_type": "code",
   "execution_count": null,
   "id": "8d14368e-df30-4270-a9a3-22963567dfa8",
   "metadata": {},
   "outputs": [],
   "source": [
    "omega_mat <- suppressMessages(read_table(snakemake@input[[\"omega_mat\"]], col_names = FALSE))"
   ]
  },
  {
   "cell_type": "code",
   "execution_count": null,
   "id": "2fd51d1f-6cce-484a-a2b5-fbc0ba18e95b",
   "metadata": {},
   "outputs": [],
   "source": [
    "samples <- read_delim(snakemake@config[[\"samples\"]], delim='\\t') %>% \n",
    "    dplyr::select(continent, site, city, range) %>% \n",
    "    rename(\"habitat\" = \"site\") %>% \n",
    "    distinct()\n",
    "head(samples)"
   ]
  },
  {
   "cell_type": "code",
   "execution_count": null,
   "id": "fbeae872-4d57-4c59-8213-030473291819",
   "metadata": {},
   "outputs": [],
   "source": [
    "omega_pca <- prcomp(omega_mat)"
   ]
  },
  {
   "cell_type": "code",
   "execution_count": null,
   "id": "fd1291d1-6cad-46f9-a16c-f968cc1f3f78",
   "metadata": {},
   "outputs": [],
   "source": [
    "pc1_var <- round(get_eigenvalue(omega_pca)[\"Dim.1\", \"variance.percent\"], 2)\n",
    "pc2_var <- round(get_eigenvalue(omega_pca)[\"Dim.2\", \"variance.percent\"], 2)\n",
    "\n",
    "pca_plot <- get_pca_ind(omega_pca)$coord %>% \n",
    "    bind_cols(., samples) %>% \n",
    "    ggplot(aes(x = Dim.1, y = Dim.2)) +\n",
    "        geom_line(aes(group = city)) +\n",
    "        geom_point(aes(color = continent, shape = habitat), size = 5) +\n",
    "        scale_color_manual(values = c(\"#f2cd00\", \"#ef6a00\", \"#cd001a\", \"#538d22\", \"#1961ae\", \"#61007d\")) +\n",
    "        xlab(paste0(\"PC1 (\", pc1_var, \"%)\")) + ylab(paste0(\"PC2 (\", pc2_var, \"%)\")) +\n",
    "        my_theme\n",
    "pca_plot\n",
    "ggsave(filename = snakemake@output[[\"pca\"]], plot = pca_plot, \n",
    "       height = 8, width = 8, device = \"pdf\", dpi = 600, units = \"in\")"
   ]
  }
 ],
 "metadata": {
  "kernelspec": {
   "display_name": "R",
   "language": "R",
   "name": "ir"
  },
  "language_info": {
   "codemirror_mode": "r",
   "file_extension": ".r",
   "mimetype": "text/x-r-source",
   "name": "R",
   "pygments_lexer": "r",
   "version": "4.3.3"
  }
 },
 "nbformat": 4,
 "nbformat_minor": 5
}
