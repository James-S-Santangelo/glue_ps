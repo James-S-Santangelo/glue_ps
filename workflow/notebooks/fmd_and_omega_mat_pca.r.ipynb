{
 "cells": [
  {
   "cell_type": "code",
   "execution_count": null,
   "id": "d6bc078c-e4a3-4b41-903d-f99382137790",
   "metadata": {},
   "outputs": [],
   "source": [
    "library(tidyverse)\n",
    "library(factoextra)\n",
    "source(\"scripts/r/baypass_utils.R\")\n",
    "source(\"scripts/r/functions_objects.R\")"
   ]
  },
  {
   "cell_type": "markdown",
   "id": "5122717b-8077-4bfa-b464-a56fb951e41a",
   "metadata": {},
   "source": [
    "## Compare Omega matrices within and between seeds\n",
    "\n",
    "- Compare Omega matrices estimated on different SNP subsets within random seeds using Förstner and Moonen Distance\n",
    "- Plot FMD values across 3 different random seeds"
   ]
  },
  {
   "cell_type": "code",
   "execution_count": null,
   "id": "c5539393",
   "metadata": {},
   "outputs": [],
   "source": [
    "# Load Omega matrices for all BayPass runs\n",
    "# Results in DF with `seed`, `split`, and `matrix` columns\n",
    "# `matrix` is a tidy nested column\n",
    "load_omega_mat <- function(path){\n",
    "    seed <- str_extract(path, \"(?<=seed)(\\\\d)(?=_)\")\n",
    "    split <- str_extract(path, \"(?<=split)(\\\\d+)(?=_)\")\n",
    "    mat <- suppressMessages(read_table(path, col_names = FALSE))\n",
    "    df_out <- tibble(seed = seed, split = split, mat = list(mat))\n",
    "    return(df_out)\n",
    "}\n",
    "\n",
    "mat_df <- snakemake@input[[\"omega_mat\"]] %>% \n",
    "    purrr::map_dfr(load_omega_mat)"
   ]
  },
  {
   "cell_type": "code",
   "execution_count": null,
   "id": "184546aa-64c7-4a39-9427-6cbdb43e228f",
   "metadata": {},
   "outputs": [],
   "source": [
    "# Estimate FMD between all pairwise SNP subsets within seeds\n",
    "# Return DF in long format with pariwise FMD values\n",
    "calculate_fmd_within_seeds <- function(data_df){\n",
    "\n",
    "    fmd_df <- utils::combn(0:(nrow(data_df) - 1), 2) %>% \n",
    "        t() %>% \n",
    "        as.data.frame() %>% \n",
    "        rename(\"n1\" = \"V1\", \"n2\" = \"V2\")\n",
    "    seed <- data_df %>% pull(seed) %>% unique()\n",
    "    \n",
    "    calculate_fmd <- function(fmd_df, data_df){\n",
    "        n1 <- fmd_df %>% pull(n1)\n",
    "        n2 <- fmd_df %>% pull(n2)\n",
    "        \n",
    "        mat1 <- data_df[data_df$split == n1, ]$mat[[1]] %>% as.matrix()\n",
    "        mat2 <- data_df[data_df$split == n2, ]$mat[[1]] %>% as.matrix()\n",
    "\n",
    "        fmd <- fmd.dist(mat1, mat2)\n",
    "        df_mod <- fmd_df %>% \n",
    "            mutate(fmd = fmd)\n",
    "        return(df_mod)\n",
    "    }\n",
    "    \n",
    "    fmd_df <- fmd_df %>% \n",
    "        group_split(n1, n2) %>% \n",
    "        purrr::map_dfr(., calculate_fmd, data_df = data_df) %>% \n",
    "        mutate(seed = seed)\n",
    "\n",
    "    return(fmd_df)\n",
    "}\n",
    "\n",
    "fmd_within_seeds <- mat_df %>% \n",
    "    group_split(seed) %>% \n",
    "    purrr::map_dfr(calculate_fmd_within_seeds)"
   ]
  },
  {
   "cell_type": "code",
   "execution_count": null,
   "id": "c9b4fa4d-045e-4508-aaef-0da8ee69cad7",
   "metadata": {},
   "outputs": [],
   "source": [
    "# Summary statistics for FMD distances\n",
    "fmd_within_seeds %>% \n",
    "    group_by(seed) %>% \n",
    "    reframe(mean = mean(fmd),\n",
    "            sd = sd(fmd),\n",
    "            median = median(fmd),\n",
    "            min = min(fmd),\n",
    "            max = max(fmd))"
   ]
  },
  {
   "cell_type": "code",
   "execution_count": null,
   "id": "b7e81c23-5a7d-49e0-8805-f6491ca3790c",
   "metadata": {},
   "outputs": [],
   "source": [
    "# Boxplot of FMD values for each random seed\n",
    "fmd_box <- fmd_within_seeds %>% \n",
    "    ggplot(aes(x = seed, y = fmd)) +\n",
    "        geom_boxplot() +\n",
    "        xlab(\"Random seed\") +\n",
    "        ylab(\"Förstner and Moonen Distance (FMD)\") +\n",
    "        my_theme\n",
    "fmd_box\n",
    "ggsave(filename = snakemake@output[[\"fmd_box\"]], plot = fmd_box, \n",
    "       height = 8, width = 8, device = \"pdf\", dpi = 600, units = \"in\")"
   ]
  },
  {
   "cell_type": "markdown",
   "id": "dfae06f7-d50c-4cd5-8178-f1fdcc7f388f",
   "metadata": {},
   "source": [
    "## Plot population structure of random run\n",
    "\n",
    "- Plot SVD and PCA of random run, colored by habitat or continent"
   ]
  },
  {
   "cell_type": "code",
   "execution_count": null,
   "id": "8d14368e-df30-4270-a9a3-22963567dfa8",
   "metadata": {},
   "outputs": [],
   "source": [
    "set.seed(42)\n",
    "random_run <- mat_df %>% filter(seed == 1) %>% sample_n(., 1)\n",
    "random_mat <- random_run$mat[[1]]"
   ]
  },
  {
   "cell_type": "code",
   "execution_count": null,
   "id": "2fd51d1f-6cce-484a-a2b5-fbc0ba18e95b",
   "metadata": {},
   "outputs": [],
   "source": [
    "samples <- read_delim(snakemake@config[[\"samples\"]], delim='\\t') %>% \n",
    "    dplyr::select(continent, site, city, range) %>% \n",
    "    rename(\"habitat\" = \"site\") %>% \n",
    "    distinct()\n",
    "head(samples)"
   ]
  },
  {
   "cell_type": "code",
   "execution_count": null,
   "id": "fbeae872-4d57-4c59-8213-030473291819",
   "metadata": {},
   "outputs": [],
   "source": [
    "rand_omega_pca <- prcomp(random_mat)"
   ]
  },
  {
   "cell_type": "code",
   "execution_count": null,
   "id": "fd1291d1-6cad-46f9-a16c-f968cc1f3f78",
   "metadata": {},
   "outputs": [],
   "source": [
    "pc1_var <- round(get_eigenvalue(rand_omega_pca)[\"Dim.1\", \"variance.percent\"], 2)\n",
    "pc2_var <- round(get_eigenvalue(rand_omega_pca)[\"Dim.2\", \"variance.percent\"], 2)\n",
    "\n",
    "pca_plot <- get_pca_ind(rand_omega_pca)$coord %>% \n",
    "    bind_cols(., samples) %>% \n",
    "    ggplot(aes(x = Dim.1, y = Dim.2)) +\n",
    "        geom_line(aes(group = city)) +\n",
    "        geom_point(aes(color = continent, shape = habitat), size = 5) +\n",
    "        scale_color_manual(values = c(\"#f2cd00\", \"#ef6a00\", \"#cd001a\", \"#538d22\", \"#1961ae\", \"#61007d\")) +\n",
    "        xlab(paste0(\"PC1 (\", pc1_var, \"%)\")) + ylab(paste0(\"PC1 (\", pc2_var, \"%)\")) +\n",
    "        my_theme\n",
    "pca_plot\n",
    "ggsave(filename = snakemake@output[[\"pca\"]], plot = pca_plot, \n",
    "       height = 8, width = 8, device = \"pdf\", dpi = 600, units = \"in\")"
   ]
  },
  {
   "cell_type": "code",
   "execution_count": null,
   "id": "061fb13e-d56f-4268-b7a0-6384df9021ad",
   "metadata": {},
   "outputs": [],
   "source": []
  }
 ],
 "metadata": {
  "kernelspec": {
   "display_name": "R",
   "language": "R",
   "name": "ir"
  },
  "language_info": {
   "codemirror_mode": "r",
   "file_extension": ".r",
   "mimetype": "text/x-r-source",
   "name": "R",
   "pygments_lexer": "r",
   "version": "4.3.3"
  }
 },
 "nbformat": 4,
 "nbformat_minor": 5
}
