{
 "cells": [
  {
   "cell_type": "code",
   "execution_count": null,
   "id": "2446161a",
   "metadata": {},
   "outputs": [],
   "source": [
    "library(tidyverse)\n",
    "source(\"scripts/r/functions_objects.R\")"
   ]
  },
  {
   "cell_type": "code",
   "execution_count": null,
   "id": "892086af-6c67-42c2-9d49-770af2e34c7b",
   "metadata": {},
   "outputs": [],
   "source": [
    "urban_mafs <- read_delim(snakemake@input[[\"urban_mafs\"]], delim = \"\\t\") %>% \n",
    "    rename(\"chrom\" = \"chromo\", \"pos\" = \"position\", \"urban_maf\" = \"knownEM\") %>% \n",
    "    dplyr::select(chrom, pos, urban_maf)\n",
    "rural_mafs <- read_delim(snakemake@input[[\"rural_mafs\"]], delim = \"\\t\") %>% \n",
    "    rename(\"chrom\" = \"chromo\", \"pos\" = \"position\", \"rural_maf\" = \"knownEM\") %>% \n",
    "    dplyr::select(chrom, pos, rural_maf)"
   ]
  },
  {
   "cell_type": "code",
   "execution_count": null,
   "id": "71de8e03-5214-41cc-a801-a7db4c4f0a8a",
   "metadata": {},
   "outputs": [],
   "source": [
    "load_cont_output <- function(path){\n",
    "    base <- basename(path)\n",
    "    split <- str_extract(base, pattern = \"(?<=split).*(?=_summary)\")\n",
    "    \n",
    "    df <- suppressMessages(read.table(path, header = TRUE)) %>% \n",
    "        rename(\"C2_log10_pval\" = \"log10.1.pval.\") %>% \n",
    "        mutate(C2_pval = 10^(-1 * C2_log10_pval)) %>% \n",
    "        dplyr::select(C2_std, C2_log10_pval, C2_pval) %>% \n",
    "        mutate(split = split)\n",
    "    return(df)\n",
    "}\n",
    "\n",
    "site_order <- suppressMessages(read_delim(snakemake@input[[\"site_order\"]], \n",
    "                                          delim = \"\\t\",\n",
    "                                          col_names = c(\"chrom\", \"pos\")))\n",
    "\n",
    "c2_df <- snakemake@input[[\"cont_out\"]] %>% \n",
    "    purrr::map_dfr(., load_cont_output) %>%\n",
    "    bind_cols(., site_order) %>% \n",
    "    arrange(chrom, pos) %>%\n",
    "    dplyr::select(chrom, pos, C2_pval)"
   ]
  },
  {
   "cell_type": "code",
   "execution_count": null,
   "id": "da268939-374b-4263-9390-04d7d1b46c37",
   "metadata": {},
   "outputs": [],
   "source": [
    "win_size <- snakemake@params[[\"win_size\"]]\n",
    "all_dat <- urban_mafs %>% \n",
    "    left_join(rural_mafs, by = c(\"chrom\", \"pos\")) %>% \n",
    "    mutate(mean_maf = (urban_maf + rural_maf) / 2) %>% \n",
    "    mutate(mean_maf = ifelse(mean_maf > 0.5, 1 - mean_maf, mean_maf)) %>% \n",
    "    dplyr::select(chrom, pos, mean_maf) %>%\n",
    "    left_join(., c2_df, by = c(\"chrom\", \"pos\")) %>% \n",
    "    mutate(win = paste0(chrom, \":\", ceiling(pos / win_size) * win_size - win_size + 1, \"-\", ceiling(pos / win_size) * win_size))"
   ]
  },
  {
   "cell_type": "code",
   "execution_count": null,
   "id": "5d2108c5-1194-4c21-bae5-e859bcd2ac33",
   "metadata": {},
   "outputs": [],
   "source": [
    "write_delim(all_dat, snakemake@output[[\"wza_input\"]], delim = \"\\t\")"
   ]
  }
 ],
 "metadata": {
  "kernelspec": {
   "display_name": "R",
   "language": "R",
   "name": "ir"
  },
  "language_info": {
   "codemirror_mode": "r",
   "file_extension": ".r",
   "mimetype": "text/x-r-source",
   "name": "R",
   "pygments_lexer": "r",
   "version": "4.2.3"
  }
 },
 "nbformat": 4,
 "nbformat_minor": 5
}
