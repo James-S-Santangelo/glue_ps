{
 "cells": [
  {
   "cell_type": "code",
   "execution_count": null,
   "id": "6cdf92f1",
   "metadata": {},
   "outputs": [],
   "source": [
    "source(\"scripts/r/baypass_utils.R\")"
   ]
  },
  {
   "cell_type": "code",
   "execution_count": null,
   "id": "053ac8c1-aeb8-4b83-842e-20440fc39db3",
   "metadata": {},
   "outputs": [],
   "source": [
    "betas <- read.table(snakemake@input[[\"betas\"]], header=TRUE)$Mean\n",
    "genos <- geno2YN(snakemake@input[[\"geno\"]])\n",
    "omega <- as.matrix(read.table(snakemake@input[[\"omega\"]]))"
   ]
  },
  {
   "cell_type": "code",
   "execution_count": null,
   "id": "c13f8563-48c8-489f-9490-8112ff775122",
   "metadata": {},
   "outputs": [],
   "source": [
    "simu <- simulate.baypass(omega.mat = omega, nsnp = 100000, sample.size = genos$NN, beta.pi = betas, pi.maf = 0.01, suffix = \"sim\")"
   ]
  },
  {
   "cell_type": "code",
   "execution_count": null,
   "id": "414e9f23-85a8-4b89-ae1c-a58300c1d2d2",
   "metadata": {},
   "outputs": [],
   "source": [
    "file.copy(\"G.sim\", snakemake@output[[\"simu_out\"]])\n",
    "file.remove(\"G.sim\")"
   ]
  }
 ],
 "metadata": {
  "kernelspec": {
   "display_name": "R",
   "language": "R",
   "name": "ir"
  },
  "language_info": {
   "codemirror_mode": "r",
   "file_extension": ".r",
   "mimetype": "text/x-r-source",
   "name": "R",
   "pygments_lexer": "r",
   "version": "4.3.3"
  }
 },
 "nbformat": 4,
 "nbformat_minor": 5
}
