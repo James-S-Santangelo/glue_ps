{
 "cells": [
  {
   "cell_type": "code",
   "execution_count": null,
   "id": "775641de",
   "metadata": {},
   "outputs": [],
   "source": [
    "library(tidyverse)\n",
    "source(\"scripts/r/functions_objects.R\")"
   ]
  },
  {
   "cell_type": "code",
   "execution_count": null,
   "id": "2102eeb1",
   "metadata": {},
   "outputs": [],
   "source": [
    "# Load in ngsParalog files\n",
    "load_paralog_file <- function(path){\n",
    "    cols <- c(\"chrom\", \"pos\", \"neg_null_log_lik\", \"neg_alt_log_lik\", \"LRT\")\n",
    "    df_out <- suppressMessages(read_table(path, col_names = cols)) %>%\n",
    "        mutate(pval = 0.5*pchisq(LRT, df=1, lower.tail=FALSE))\n",
    "    return(df_out)\n",
    "}\n",
    "\n",
    "para_df <- snakemake@input[[\"para\"]] %>% purrr::map_dfr(., load_paralog_file) %>%\n",
    "    remap_chr_names()"
   ]
  },
  {
   "cell_type": "code",
   "execution_count": null,
   "id": "f0859d54",
   "metadata": {},
   "outputs": [],
   "source": [
    "# Identify top 1% of LR scores and consider these outliers\n",
    "quant <- quantile(para_df$LRT, probs = 0.99)\n",
    "para_df <- para_df %>%\n",
    "    mutate(is_outlier = ifelse(LRT >= quant, 1, 0))\n",
    "\n",
    "para_df %>%\n",
    "    group_by(is_outlier) %>%\n",
    "    summarise(n = n())"
   ]
  },
  {
   "cell_type": "code",
   "execution_count": null,
   "id": "8e45faed",
   "metadata": {},
   "outputs": [],
   "source": [
    "options(repr.plot.width = 20, repr.plot.height = 6)\n",
    "\n",
    "# Setting up cummulative genome-wide x-axis\n",
    "data_cum <- para_df %>% \n",
    "    group_by(chrom) %>% \n",
    "    summarise(max_pos = max(pos)) %>% \n",
    "    mutate(pos_add = lag(cumsum(max_pos), default = 0)) %>% \n",
    "    dplyr::select(chrom, pos_add)\n",
    "\n",
    "\n",
    "df_mod <- para_df %>%\n",
    "    inner_join(data_cum, by = \"chrom\") %>% \n",
    "    mutate(pos_cum = pos + pos_add)  %>% \n",
    "    mutate(chrom_cat = case_when(chrom == '1' ~ 'One',\n",
    "                                 chrom == '2' ~ 'Two',\n",
    "                                 chrom == '3' ~ 'One',\n",
    "                                 chrom == '4' ~ 'Two',\n",
    "                                 chrom == '5' ~ 'One',\n",
    "                                 chrom == '6' ~ 'Two',\n",
    "                                 chrom == '7' ~ 'One',\n",
    "                                 chrom == '8' ~ 'Two',\n",
    "                                 chrom == '9' ~ 'One',\n",
    "                                 chrom == '10' ~ 'Two',\n",
    "                                 chrom == '11' ~ 'One',\n",
    "                                 chrom == '12' ~ 'Two',\n",
    "                                 chrom == '13' ~ 'One',\n",
    "                                 chrom == '14' ~ 'Two',\n",
    "                                 chrom == '15' ~ 'One',\n",
    "                                 chrom == '16' ~ 'Two'))\n",
    "\n",
    "axis_set <- df_mod %>% \n",
    "  group_by(chrom) %>% \n",
    "  summarize(center = mean(pos_cum))\n",
    "\n",
    "# Get outliers to plot as separate layer\n",
    "outliers <- df_mod %>% filter(is_outlier == 1)\n",
    "not_outlier <- df_mod %>% filter(is_outlier == 0)"
   ]
  },
  {
   "cell_type": "code",
   "execution_count": null,
   "id": "b1f4cff0",
   "metadata": {},
   "outputs": [],
   "source": [
    "manhat <- ggplot() +\n",
    "    geom_point(data = outliers, shape = 21, alpha = 0.2, size = 1, color = \"red\", fill = \"red\",\n",
    "               aes(x = pos_cum, y = LRT)) +\n",
    "    geom_point(data = not_outlier, shape = 21, alpha = 0.2, size = 1, \n",
    "               aes(x = pos_cum, y = LRT, fill = chrom_cat, color = chrom_cat), , show.legend = FALSE) +\n",
    "    geom_hline(yintercept = quant, color = \"grey40\", linetype = \"dashed\") +\n",
    "    scale_x_continuous(label = axis_set$chrom, breaks=axis_set$center) +\n",
    "    scale_y_continuous(breaks = seq(0, 250000, 50000)) +\n",
    "    coord_cartesian(ylim = c(0, 262000)) +\n",
    "    scale_fill_manual(values = c(\"black\", \"grey40\")) + \n",
    "    scale_color_manual(values = c(\"black\", \"grey40\")) + \n",
    "    ylab(\"Likelihood ratio\") + xlab('Chromosome') +\n",
    "    theme_classic() +\n",
    "    my_theme +\n",
    "    theme(legend.position = \"none\")\n",
    "manhat\n",
    "\n",
    "ggsave(snakemake@output[[\"manhat\"]], plot = manhat, device = \"pdf\", \n",
    "       width = 20, height = 8, dpi = 600, units = \"in\")"
   ]
  },
  {
   "cell_type": "code",
   "execution_count": null,
   "id": "eedba8dd",
   "metadata": {},
   "outputs": [],
   "source": [
    "write_sites <- function(df){\n",
    "    chrom <- df %>% pull(chrom) %>% unique()\n",
    "    chrom <- case_when(chrom == '1' ~ 'Chr01_Occ',\n",
    "                       chrom == '2' ~ 'Chr01_Pall',\n",
    "                       chrom == '3' ~ 'Chr02_Occ',\n",
    "                       chrom == '4' ~ 'Chr02_Pall',\n",
    "                       chrom == '5' ~ 'Chr03_Occ',\n",
    "                       chrom == '6' ~ 'Chr03_Pall',\n",
    "                       chrom == '7' ~ 'Chr04_Occ',\n",
    "                       chrom == '8' ~ 'Chr04_Pall',\n",
    "                       chrom == '9' ~ 'Chr05_Occ',\n",
    "                       chrom == '10' ~ 'Chr05_Pall',\n",
    "                       chrom == '11' ~ 'Chr06_Occ',\n",
    "                       chrom == '12' ~ 'Chr06_Pall',\n",
    "                       chrom == '13' ~ 'Chr07_Occ',\n",
    "                       chrom == '14' ~ 'Chr07_Pall',\n",
    "                       chrom == '15' ~ 'Chr08_Occ',\n",
    "                       chrom == '16' ~ 'Chr08_Pall')\n",
    "    outpath <- sprintf(\"%s/%s_filtered.sites\", snakemake@params[[\"out\"]], chrom)\n",
    "    write_delim(df, outpath, delim=\"\\t\")\n",
    "}\n",
    "\n",
    "para_df %>%\n",
    "    filter(is_outlier == 0) %>%\n",
    "    group_split(chrom) %>%\n",
    "    purrr::walk(., write_sites)"
   ]
  },
  {
   "cell_type": "code",
   "execution_count": null,
   "id": "99dde3ae",
   "metadata": {},
   "outputs": [],
   "source": []
  }
 ],
 "metadata": {
  "kernelspec": {
   "display_name": "R",
   "language": "R",
   "name": "ir"
  },
  "language_info": {
   "codemirror_mode": "r",
   "file_extension": ".r",
   "mimetype": "text/x-r-source",
   "name": "R",
   "pygments_lexer": "r",
   "version": "4.2.3"
  }
 },
 "nbformat": 4,
 "nbformat_minor": 5
}
