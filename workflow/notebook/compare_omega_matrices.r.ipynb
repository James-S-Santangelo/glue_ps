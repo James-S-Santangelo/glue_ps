{
 "cells": [
  {
   "cell_type": "code",
   "execution_count": null,
   "id": "d6bc078c-e4a3-4b41-903d-f99382137790",
   "metadata": {},
   "outputs": [],
   "source": [
    "library(tidyverse)\n",
    "source(\"scripts/r/baypass_utils.R\")\n",
    "source(\"scripts/r/functions_objects.R\")"
   ]
  },
  {
   "cell_type": "code",
   "execution_count": null,
   "id": "c5539393",
   "metadata": {},
   "outputs": [],
   "source": [
    "load_omega_mat <- function(path){\n",
    "    mat <- read.table(path) %>% \n",
    "        as.matrix()\n",
    "    return(list(mat = mat))\n",
    "}\n",
    "\n",
    "mat_list <- snakemake@input[[\"omega_mat\"]] %>% \n",
    "    purrr::map(load_omega_mat)"
   ]
  },
  {
   "cell_type": "code",
   "execution_count": null,
   "id": "13264f34-eaa0-4d46-8ae1-55924f875ee3",
   "metadata": {},
   "outputs": [],
   "source": [
    "fmd_df <- utils::combn(1:length(mat_list), 2) %>% \n",
    "    t() %>% \n",
    "    as.data.frame() %>% \n",
    "    rename(\"n1\" = \"V1\", \"n2\" = \"V2\")\n",
    "\n",
    "calculate_fmd <- function(df){\n",
    "    n1 <- df %>% pull(n1)\n",
    "    n2 <- df %>% pull(n2)\n",
    "    fmd <- fmd.dist(mat_list[[n1]]$mat, mat_list[[n2]]$mat)\n",
    "    df_mod <- df %>% \n",
    "        mutate(fmd = fmd)\n",
    "    return(df_mod)\n",
    "}\n",
    "\n",
    "fmd_df <- fmd_df %>% \n",
    "    group_split(n1, n2) %>% \n",
    "    purrr::map_dfr(., calculate_fmd)"
   ]
  },
  {
   "cell_type": "code",
   "execution_count": null,
   "id": "420fa164-f186-46ba-912d-c2df71cb8729",
   "metadata": {},
   "outputs": [],
   "source": [
    "fmd_hist <- fmd_df %>% \n",
    "    ggplot(aes(x = fmd)) +\n",
    "        geom_histogram(color = \"black\", fill = \"grey\") +\n",
    "        xlab(\"Förstner and Moonen Distance (FMD)\") +\n",
    "        ylab(\"Number of comparisons\") +\n",
    "        my_theme\n",
    "\n",
    "ggsave(filename = snakemake@output[[\"fmd_hist\"]], plot = fmd_hist, \n",
    "       height = 8, width = 8, device = \"pdf\", dpi = 600, units = \"in\")"
   ]
  }
 ],
 "metadata": {
  "kernelspec": {
   "display_name": "R",
   "language": "R",
   "name": "ir"
  },
  "language_info": {
   "codemirror_mode": "r",
   "file_extension": ".r",
   "mimetype": "text/x-r-source",
   "name": "R",
   "pygments_lexer": "r",
   "version": "4.3.3"
  }
 },
 "nbformat": 4,
 "nbformat_minor": 5
}
