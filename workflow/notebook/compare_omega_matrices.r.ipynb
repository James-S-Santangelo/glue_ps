{
 "cells": [
  {
   "cell_type": "code",
   "execution_count": null,
   "id": "d6bc078c-e4a3-4b41-903d-f99382137790",
   "metadata": {},
   "outputs": [],
   "source": [
    "library(tidyverse)\n",
    "source(\"scripts/r/baypass_utils.R\")\n",
    "source(\"scripts/r/functions_objects.R\")"
   ]
  },
  {
   "cell_type": "code",
   "execution_count": null,
   "id": "c5539393",
   "metadata": {},
   "outputs": [],
   "source": [
    "load_omega_mat <- function(path){\n",
    "    seed <- str_extract(path, \"(?<=seed)(\\\\d)(?=_)\")\n",
    "    split <- str_extract(path, \"(?<=split)(\\\\d+)(?=_)\")\n",
    "    mat <- suppressMessages(read_table(path, col_names = FALSE))\n",
    "    df_out <- tibble(seed = seed, split = split, mat = list(mat))\n",
    "    return(df_out)\n",
    "}\n",
    "\n",
    "mat_df <- snakemake@input[[\"omega_mat\"]] %>% \n",
    "    purrr::map_dfr(load_omega_mat)"
   ]
  },
  {
   "cell_type": "code",
   "execution_count": null,
   "id": "184546aa-64c7-4a39-9427-6cbdb43e228f",
   "metadata": {},
   "outputs": [],
   "source": [
    "calculate_fmd_within_seeds <- function(data_df){\n",
    "\n",
    "    fmd_df <- utils::combn(0:(nrow(data_df) - 1), 2) %>% \n",
    "        t() %>% \n",
    "        as.data.frame() %>% \n",
    "        rename(\"n1\" = \"V1\", \"n2\" = \"V2\")\n",
    "    seed <- data_df %>% pull(seed) %>% unique()\n",
    "    \n",
    "    calculate_fmd <- function(fmd_df, data_df){\n",
    "        n1 <- fmd_df %>% pull(n1)\n",
    "        n2 <- fmd_df %>% pull(n2)\n",
    "        \n",
    "        mat1 <- data_df[data_df$split == n1, ]$mat[[1]] %>% as.matrix()\n",
    "        mat2 <- data_df[data_df$split == n2, ]$mat[[1]] %>% as.matrix()\n",
    "\n",
    "        fmd <- fmd.dist(mat1, mat2)\n",
    "        df_mod <- fmd_df %>% \n",
    "            mutate(fmd = fmd)\n",
    "        return(df_mod)\n",
    "    }\n",
    "    \n",
    "    fmd_df <- fmd_df %>% \n",
    "        group_split(n1, n2) %>% \n",
    "        purrr::map_dfr(., calculate_fmd, data_df = data_df) %>% \n",
    "        mutate(seed = seed)\n",
    "\n",
    "    return(fmd_df)\n",
    "}\n",
    "\n",
    "fmd_within_seeds <- mat_df %>% \n",
    "    group_split(seed) %>% \n",
    "    purrr::map_dfr(calculate_fmd_within_seeds)"
   ]
  },
  {
   "cell_type": "code",
   "execution_count": null,
   "id": "c9b4fa4d-045e-4508-aaef-0da8ee69cad7",
   "metadata": {},
   "outputs": [],
   "source": [
    "fmd_within_seeds %>% \n",
    "    group_by(seed) %>% \n",
    "    reframe(mean = mean(fmd),\n",
    "            sd = sd(fmd),\n",
    "            median = median(fmd),\n",
    "            min = min(fmd),\n",
    "            max = max(fmd))"
   ]
  },
  {
   "cell_type": "code",
   "execution_count": null,
   "id": "b7e81c23-5a7d-49e0-8805-f6491ca3790c",
   "metadata": {},
   "outputs": [],
   "source": [
    "fmd_box <- fmd_within_seeds %>% \n",
    "    ggplot(aes(x = seed, y = fmd)) +\n",
    "        geom_boxplot() +\n",
    "        xlab(\"Random seed\") +\n",
    "        ylab(\"Förstner and Moonen Distance (FMD)\") +\n",
    "        my_theme\n",
    "\n",
    "ggsave(filename = snakemake@output[[\"fmd_box\"]], plot = fmd_box, \n",
    "       height = 8, width = 8, device = \"pdf\", dpi = 600, units = \"in\")"
   ]
  }
 ],
 "metadata": {
  "kernelspec": {
   "display_name": "R",
   "language": "R",
   "name": "ir"
  },
  "language_info": {
   "codemirror_mode": "r",
   "file_extension": ".r",
   "mimetype": "text/x-r-source",
   "name": "R",
   "pygments_lexer": "r",
   "version": "4.3.3"
  }
 },
 "nbformat": 4,
 "nbformat_minor": 5
}
